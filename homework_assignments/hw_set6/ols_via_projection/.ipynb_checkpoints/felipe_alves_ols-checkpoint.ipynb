{
 "cells": [
  {
   "cell_type": "markdown",
   "metadata": {},
   "source": [
    "## OLS Through StatsModels vs Projection"
   ]
  },
  {
   "cell_type": "markdown",
   "metadata": {},
   "source": [
    "In this exercise we're going to run a regression using some trade data.  (The regression model is a gravity model, although the details don't really matter for this exercise.)  The idea is to compute the OLS coefficients and other related quantities using \n",
    "\n",
    "1. A regression package, and\n",
    "2. The expressions given in the lecture on orthogonal projection.\n",
    "\n",
    "Note that you need to download the data set \"trade_data.csv\" as well as this notebook.\n",
    "\n",
    "Your task is to complete the notebook, as discussed below.\n",
    "\n",
    "First let's try a standard approach, using StatsModels."
   ]
  },
  {
   "cell_type": "code",
   "execution_count": 1,
   "metadata": {
    "collapsed": true
   },
   "outputs": [],
   "source": [
    "matplotlib inline"
   ]
  },
  {
   "cell_type": "code",
   "execution_count": 2,
   "metadata": {
    "collapsed": true
   },
   "outputs": [],
   "source": [
    "import pandas as pd\n",
    "import numpy as np\n",
    "from numpy.linalg import inv\n",
    "from numpy import log\n",
    "import statsmodels.formula.api as smf"
   ]
  },
  {
   "cell_type": "markdown",
   "metadata": {},
   "source": [
    "First we read in the data."
   ]
  },
  {
   "cell_type": "code",
   "execution_count": 3,
   "metadata": {
    "collapsed": true
   },
   "outputs": [],
   "source": [
    "data = pd.read_csv(\"trade_data.csv\")"
   ]
  },
  {
   "cell_type": "markdown",
   "metadata": {},
   "source": [
    "Let's see what it looks like."
   ]
  },
  {
   "cell_type": "code",
   "execution_count": 4,
   "metadata": {
    "collapsed": false
   },
   "outputs": [
    {
     "data": {
      "text/html": [
       "<div>\n",
       "<table border=\"1\" class=\"dataframe\">\n",
       "  <thead>\n",
       "    <tr style=\"text-align: right;\">\n",
       "      <th></th>\n",
       "      <th>Unnamed: 0</th>\n",
       "      <th>year</th>\n",
       "      <th>iiso3c</th>\n",
       "      <th>eiso3c</th>\n",
       "      <th>value</th>\n",
       "      <th>contig</th>\n",
       "      <th>comlang_off</th>\n",
       "      <th>colony</th>\n",
       "      <th>dist</th>\n",
       "      <th>distcap</th>\n",
       "      <th>distw</th>\n",
       "      <th>distwces</th>\n",
       "      <th>ell</th>\n",
       "      <th>ill</th>\n",
       "      <th>egdp</th>\n",
       "      <th>egdppc</th>\n",
       "      <th>epop</th>\n",
       "      <th>igdp</th>\n",
       "      <th>igdppc</th>\n",
       "      <th>ipop</th>\n",
       "    </tr>\n",
       "  </thead>\n",
       "  <tbody>\n",
       "    <tr>\n",
       "      <th>0</th>\n",
       "      <td>0</td>\n",
       "      <td>2013</td>\n",
       "      <td>ABW</td>\n",
       "      <td>BEL</td>\n",
       "      <td>774353</td>\n",
       "      <td>0</td>\n",
       "      <td>1</td>\n",
       "      <td>0</td>\n",
       "      <td>7847.070</td>\n",
       "      <td>7847.070</td>\n",
       "      <td>7843.255</td>\n",
       "      <td>7843.006</td>\n",
       "      <td>0</td>\n",
       "      <td>0</td>\n",
       "      <td>4.204710e+11</td>\n",
       "      <td>37599.735498</td>\n",
       "      <td>11182817</td>\n",
       "      <td>NaN</td>\n",
       "      <td>NaN</td>\n",
       "      <td>102921</td>\n",
       "    </tr>\n",
       "    <tr>\n",
       "      <th>1</th>\n",
       "      <td>1</td>\n",
       "      <td>2013</td>\n",
       "      <td>ABW</td>\n",
       "      <td>BHS</td>\n",
       "      <td>4712537</td>\n",
       "      <td>0</td>\n",
       "      <td>0</td>\n",
       "      <td>0</td>\n",
       "      <td>1588.515</td>\n",
       "      <td>1588.515</td>\n",
       "      <td>1634.515</td>\n",
       "      <td>1628.143</td>\n",
       "      <td>0</td>\n",
       "      <td>0</td>\n",
       "      <td>7.835118e+09</td>\n",
       "      <td>20736.547344</td>\n",
       "      <td>377841</td>\n",
       "      <td>NaN</td>\n",
       "      <td>NaN</td>\n",
       "      <td>102921</td>\n",
       "    </tr>\n",
       "    <tr>\n",
       "      <th>2</th>\n",
       "      <td>2</td>\n",
       "      <td>2013</td>\n",
       "      <td>ABW</td>\n",
       "      <td>CHE</td>\n",
       "      <td>17812626</td>\n",
       "      <td>0</td>\n",
       "      <td>0</td>\n",
       "      <td>0</td>\n",
       "      <td>8056.332</td>\n",
       "      <td>8056.332</td>\n",
       "      <td>8074.21</td>\n",
       "      <td>8073.511</td>\n",
       "      <td>1</td>\n",
       "      <td>0</td>\n",
       "      <td>4.772463e+11</td>\n",
       "      <td>58996.896142</td>\n",
       "      <td>8089346</td>\n",
       "      <td>NaN</td>\n",
       "      <td>NaN</td>\n",
       "      <td>102921</td>\n",
       "    </tr>\n",
       "    <tr>\n",
       "      <th>3</th>\n",
       "      <td>3</td>\n",
       "      <td>2013</td>\n",
       "      <td>ABW</td>\n",
       "      <td>CHN</td>\n",
       "      <td>25319168</td>\n",
       "      <td>0</td>\n",
       "      <td>0</td>\n",
       "      <td>0</td>\n",
       "      <td>14155.350</td>\n",
       "      <td>14155.350</td>\n",
       "      <td>14590.92</td>\n",
       "      <td>14560.28</td>\n",
       "      <td>0</td>\n",
       "      <td>0</td>\n",
       "      <td>4.912954e+12</td>\n",
       "      <td>3619.439108</td>\n",
       "      <td>1357380000</td>\n",
       "      <td>NaN</td>\n",
       "      <td>NaN</td>\n",
       "      <td>102921</td>\n",
       "    </tr>\n",
       "    <tr>\n",
       "      <th>4</th>\n",
       "      <td>4</td>\n",
       "      <td>2013</td>\n",
       "      <td>ABW</td>\n",
       "      <td>COL</td>\n",
       "      <td>22160086</td>\n",
       "      <td>0</td>\n",
       "      <td>1</td>\n",
       "      <td>0</td>\n",
       "      <td>1036.634</td>\n",
       "      <td>1036.634</td>\n",
       "      <td>929.5887</td>\n",
       "      <td>861.2452</td>\n",
       "      <td>0</td>\n",
       "      <td>0</td>\n",
       "      <td>2.129079e+11</td>\n",
       "      <td>4497.196936</td>\n",
       "      <td>47342363</td>\n",
       "      <td>NaN</td>\n",
       "      <td>NaN</td>\n",
       "      <td>102921</td>\n",
       "    </tr>\n",
       "  </tbody>\n",
       "</table>\n",
       "</div>"
      ],
      "text/plain": [
       "   Unnamed: 0  year iiso3c eiso3c     value  contig  comlang_off  colony  \\\n",
       "0           0  2013    ABW    BEL    774353       0            1       0   \n",
       "1           1  2013    ABW    BHS   4712537       0            0       0   \n",
       "2           2  2013    ABW    CHE  17812626       0            0       0   \n",
       "3           3  2013    ABW    CHN  25319168       0            0       0   \n",
       "4           4  2013    ABW    COL  22160086       0            1       0   \n",
       "\n",
       "        dist    distcap     distw  distwces  ell  ill          egdp  \\\n",
       "0   7847.070   7847.070  7843.255  7843.006    0    0  4.204710e+11   \n",
       "1   1588.515   1588.515  1634.515  1628.143    0    0  7.835118e+09   \n",
       "2   8056.332   8056.332   8074.21  8073.511    1    0  4.772463e+11   \n",
       "3  14155.350  14155.350  14590.92  14560.28    0    0  4.912954e+12   \n",
       "4   1036.634   1036.634  929.5887  861.2452    0    0  2.129079e+11   \n",
       "\n",
       "         egdppc        epop  igdp  igdppc    ipop  \n",
       "0  37599.735498    11182817   NaN     NaN  102921  \n",
       "1  20736.547344      377841   NaN     NaN  102921  \n",
       "2  58996.896142     8089346   NaN     NaN  102921  \n",
       "3   3619.439108  1357380000   NaN     NaN  102921  \n",
       "4   4497.196936    47342363   NaN     NaN  102921  "
      ]
     },
     "execution_count": 4,
     "metadata": {},
     "output_type": "execute_result"
    }
   ],
   "source": [
    "data.head()"
   ]
  },
  {
   "cell_type": "markdown",
   "metadata": {},
   "source": [
    "Let's get a full list of columns."
   ]
  },
  {
   "cell_type": "code",
   "execution_count": 5,
   "metadata": {
    "collapsed": false
   },
   "outputs": [
    {
     "data": {
      "text/plain": [
       "Index(['Unnamed: 0', 'year', 'iiso3c', 'eiso3c', 'value', 'contig',\n",
       "       'comlang_off', 'colony', 'dist', 'distcap', 'distw', 'distwces', 'ell',\n",
       "       'ill', 'egdp', 'egdppc', 'epop', 'igdp', 'igdppc', 'ipop'],\n",
       "      dtype='object')"
      ]
     },
     "execution_count": 5,
     "metadata": {},
     "output_type": "execute_result"
    }
   ],
   "source": [
    "data.columns"
   ]
  },
  {
   "cell_type": "markdown",
   "metadata": {},
   "source": [
    "Let's regress 'value' on 'egdp', 'igdp' and 'dist', all in logs.  To do this we make a `formula` object."
   ]
  },
  {
   "cell_type": "code",
   "execution_count": 6,
   "metadata": {
    "collapsed": true
   },
   "outputs": [],
   "source": [
    "formula = \"log(value) ~ log(egdp) + log(igdp) + log(dist)\"\n",
    "model = smf.ols(formula, data)"
   ]
  },
  {
   "cell_type": "code",
   "execution_count": 7,
   "metadata": {
    "collapsed": false
   },
   "outputs": [
    {
     "name": "stdout",
     "output_type": "stream",
     "text": [
      "                            OLS Regression Results                            \n",
      "==============================================================================\n",
      "Dep. Variable:             log(value)   R-squared:                       0.615\n",
      "Model:                            OLS   Adj. R-squared:                  0.614\n",
      "Method:                 Least Squares   F-statistic:                     936.4\n",
      "Date:                Thu, 24 Mar 2016   Prob (F-statistic):               0.00\n",
      "Time:                        18:32:29   Log-Likelihood:                -4228.1\n",
      "No. Observations:                1777   AIC:                             8464.\n",
      "Df Residuals:                    1773   BIC:                             8486.\n",
      "Df Model:                           3                                         \n",
      "Covariance Type:                  HC1                                         \n",
      "==============================================================================\n",
      "                 coef    std err          z      P>|z|      [95.0% Conf. Int.]\n",
      "------------------------------------------------------------------------------\n",
      "Intercept    -27.0265      1.198    -22.563      0.000       -29.374   -24.679\n",
      "log(egdp)      1.2224      0.028     44.202      0.000         1.168     1.277\n",
      "log(igdp)      0.9679      0.031     30.963      0.000         0.907     1.029\n",
      "log(dist)     -1.4130      0.069    -20.426      0.000        -1.549    -1.277\n",
      "==============================================================================\n",
      "Omnibus:                      179.128   Durbin-Watson:                   1.763\n",
      "Prob(Omnibus):                  0.000   Jarque-Bera (JB):              316.166\n",
      "Skew:                          -0.683   Prob(JB):                     2.22e-69\n",
      "Kurtosis:                       4.551   Cond. No.                         652.\n",
      "==============================================================================\n",
      "\n",
      "Warnings:\n",
      "[1] Standard Errors are heteroscedasticity robust (HC1)\n"
     ]
    }
   ],
   "source": [
    "result = model.fit(cov_type='HC1')\n",
    "print(result.summary())"
   ]
  },
  {
   "cell_type": "markdown",
   "metadata": {},
   "source": [
    "### Replication using Projection"
   ]
  },
  {
   "cell_type": "markdown",
   "metadata": {},
   "source": [
    "Now let's reproduce the same values using the formulas from the lecture on projection.  I'm going to be nice and build $\\mathbf X$ and $\\mathbf y$ for you."
   ]
  },
  {
   "cell_type": "code",
   "execution_count": 8,
   "metadata": {
    "collapsed": true
   },
   "outputs": [],
   "source": [
    "data2 = data[['value', 'egdp', 'igdp', 'dist']]\n",
    "data2 = data2.dropna()"
   ]
  },
  {
   "cell_type": "code",
   "execution_count": 9,
   "metadata": {
    "collapsed": true
   },
   "outputs": [],
   "source": [
    "y = np.array(log(data2.value))"
   ]
  },
  {
   "cell_type": "code",
   "execution_count": 10,
   "metadata": {
    "collapsed": true
   },
   "outputs": [],
   "source": [
    "X = np.ones((len(y), 4))\n",
    "X[:, 1] = log(data2.egdp)\n",
    "X[:, 2] = log(data2.igdp)\n",
    "X[:, 3] = log(data2.dist)"
   ]
  },
  {
   "cell_type": "markdown",
   "metadata": {},
   "source": [
    "Now reproduce the coefficients by computing $\\hat \\beta$, using the matrix expression given in the lectures."
   ]
  },
  {
   "cell_type": "code",
   "execution_count": 11,
   "metadata": {
    "collapsed": false
   },
   "outputs": [
    {
     "name": "stdout",
     "output_type": "stream",
     "text": [
      "[-27.02649975   1.22236663   0.96794448  -1.41298939]\n"
     ]
    }
   ],
   "source": [
    "# Derive betahat using the expression from the lectures\n",
    "betahat = inv(X.T @ X) @ (X.T @ y)\n",
    "print(betahat)"
   ]
  },
  {
   "cell_type": "markdown",
   "metadata": {},
   "source": [
    "Next replicate the value for $R^2$ produced in the table above using the formula given in the lecture slides."
   ]
  },
  {
   "cell_type": "code",
   "execution_count": 12,
   "metadata": {
    "collapsed": false
   },
   "outputs": [
    {
     "data": {
      "text/plain": [
       "17.723548030362906"
      ]
     },
     "execution_count": 12,
     "metadata": {},
     "output_type": "execute_result"
    }
   ],
   "source": [
    "y.mean()\n",
    "y.var()"
   ]
  },
  {
   "cell_type": "code",
   "execution_count": 13,
   "metadata": {
    "collapsed": false
   },
   "outputs": [
    {
     "name": "stdout",
     "output_type": "stream",
     "text": [
      "0.614835481898\n"
     ]
    }
   ],
   "source": [
    "# Derive R^2 using y, Py, etc. as defined in the lecture\n",
    "P = X @ inv(X.T @ X) @ X.T\n",
    "yhat = P @ y\n",
    "Rsq =  yhat.var()/y.var()\n",
    "print(Rsq)"
   ]
  }
 ],
 "metadata": {
  "kernelspec": {
   "display_name": "Python 3",
   "language": "python",
   "name": "python3"
  },
  "language_info": {
   "codemirror_mode": {
    "name": "ipython",
    "version": 3
   },
   "file_extension": ".py",
   "mimetype": "text/x-python",
   "name": "python",
   "nbconvert_exporter": "python",
   "pygments_lexer": "ipython3",
   "version": "3.5.1"
  }
 },
 "nbformat": 4,
 "nbformat_minor": 0
}
