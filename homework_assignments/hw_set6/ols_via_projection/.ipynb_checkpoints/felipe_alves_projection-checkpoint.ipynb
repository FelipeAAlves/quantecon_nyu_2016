{
 "cells": [
  {
   "cell_type": "markdown",
   "metadata": {},
   "source": [
    "### Homework 6\n",
    "Felipe Alves - N14713445"
   ]
  },
  {
   "cell_type": "markdown",
   "metadata": {},
   "source": [
    "In this exercise we are going to project $y$ on the column space of $\\mathbf{X}$\n",
    "$$y = \\begin{bmatrix} \n",
    "    1 \\\\ 3 \\\\ -3 \n",
    "\\end{bmatrix}, \\quad \n",
    "\\mathbf{X} = \\begin{bmatrix}\n",
    "    1 & 0 \\\\ 0 & -6 \\\\ 2 & 2\n",
    "\\end{bmatrix}$$\n",
    "in three different ways. \n",
    "\n",
    "The projected value is computed on Out[3,8,14] for the different methods considered. "
   ]
  },
  {
   "cell_type": "code",
   "execution_count": 1,
   "metadata": {
    "collapsed": false
   },
   "outputs": [
    {
     "data": {
      "text/plain": [
       "3x2 Array{Int64,2}:\n",
       " 1   0\n",
       " 0  -6\n",
       " 2   2"
      ]
     },
     "execution_count": 1,
     "metadata": {},
     "output_type": "execute_result"
    }
   ],
   "source": [
    "y = [1 ; 3 ; -3]\n",
    "X = [1 0 ; 0 -6 ; 2 2]"
   ]
  },
  {
   "cell_type": "markdown",
   "metadata": {},
   "source": [
    "### Method 1"
   ]
  },
  {
   "cell_type": "code",
   "execution_count": 2,
   "metadata": {
    "collapsed": false
   },
   "outputs": [
    {
     "data": {
      "text/plain": [
       "3x3 Array{Float64,2}:\n",
       " 0.217391   0.130435    0.391304 \n",
       " 0.130435   0.978261   -0.0652174\n",
       " 0.391304  -0.0652174   0.804348 "
      ]
     },
     "execution_count": 2,
     "metadata": {},
     "output_type": "execute_result"
    }
   ],
   "source": [
    "X /(X'*X)*X'"
   ]
  },
  {
   "cell_type": "code",
   "execution_count": 3,
   "metadata": {
    "collapsed": false
   },
   "outputs": [
    {
     "data": {
      "text/plain": [
       "3-element Array{Float64,1}:\n",
       " -0.565217\n",
       "  3.26087 \n",
       " -2.21739 "
      ]
     },
     "execution_count": 3,
     "metadata": {},
     "output_type": "execute_result"
    }
   ],
   "source": [
    "P = X*( (X'*X)\\X' )\n",
    "yhat = P * y"
   ]
  },
  {
   "cell_type": "markdown",
   "metadata": {},
   "source": [
    "### Method 2 \n",
    "\n",
    "Implement your own version of [Gram-Schimidt process](https://en.wikipedia.org/wiki/Gram–Schmidt_process). Use it to convert $X$ to a matrix with orthonormal columns and the same colums space as $X$. "
   ]
  },
  {
   "cell_type": "markdown",
   "metadata": {},
   "source": [
    "1. Set $S_i - \\text{span } \\{x_1,\\ldots x_i\\}$ and $\\mathbf{M}_i = \\text{proj }S^{\\bot}_i$      \n",
    "* Set $v_i = \\mathbf{M}_{i-1} x_i$, with $\\mathbf{M}_0 = I$\n",
    "* Set $u_i = \\frac{v_i}{\\lVert v_i\\rVert}$ "
   ]
  },
  {
   "cell_type": "markdown",
   "metadata": {},
   "source": [
    "##### Manual application "
   ]
  },
  {
   "cell_type": "code",
   "execution_count": 4,
   "metadata": {
    "collapsed": false
   },
   "outputs": [
    {
     "data": {
      "text/plain": [
       "3-element Array{Float64,1}:\n",
       " 0.447214\n",
       " 0.0     \n",
       " 0.894427"
      ]
     },
     "execution_count": 4,
     "metadata": {},
     "output_type": "execute_result"
    }
   ],
   "source": [
    "x1 = X[:,1]; x2 = X[:,2]\n",
    "u₁ = x1/norm(x1)"
   ]
  },
  {
   "cell_type": "code",
   "execution_count": 5,
   "metadata": {
    "collapsed": false
   },
   "outputs": [
    {
     "data": {
      "text/plain": [
       "3-element Array{Float64,1}:\n",
       " -0.131876\n",
       " -0.989071\n",
       "  0.065938"
      ]
     },
     "execution_count": 5,
     "metadata": {},
     "output_type": "execute_result"
    }
   ],
   "source": [
    "P₁ = x1*( (x1'*x1)\\x1' )\n",
    "M₁ = eye(3) - P₁\n",
    "v₂ = M₁*x2 \n",
    "u₂ = v₂/norm(v₂)"
   ]
  },
  {
   "cell_type": "code",
   "execution_count": 6,
   "metadata": {
    "collapsed": false
   },
   "outputs": [
    {
     "data": {
      "text/plain": [
       "3x2 Array{Float64,2}:\n",
       " 0.447214  -0.131876\n",
       " 0.0       -0.989071\n",
       " 0.894427   0.065938"
      ]
     },
     "execution_count": 6,
     "metadata": {},
     "output_type": "execute_result"
    }
   ],
   "source": [
    "U = [u₁ u₂]"
   ]
  },
  {
   "cell_type": "markdown",
   "metadata": {},
   "source": [
    "Let's check that the columns of $\\mathbf{U}$ are orthogonal, i.e. that $\\mathbf{U}'\\mathbf{U} = \\mathbf{I}$"
   ]
  },
  {
   "cell_type": "code",
   "execution_count": 7,
   "metadata": {
    "collapsed": false
   },
   "outputs": [
    {
     "data": {
      "text/plain": [
       "2x2 Array{Float64,2}:\n",
       "  1.0          -2.77556e-17\n",
       " -2.77556e-17   1.0        "
      ]
     },
     "execution_count": 7,
     "metadata": {},
     "output_type": "execute_result"
    }
   ],
   "source": [
    "U'*U"
   ]
  },
  {
   "cell_type": "code",
   "execution_count": 8,
   "metadata": {
    "collapsed": false
   },
   "outputs": [
    {
     "data": {
      "text/plain": [
       "3-element Array{Float64,1}:\n",
       " -0.565217\n",
       "  3.26087 \n",
       " -2.21739 "
      ]
     },
     "execution_count": 8,
     "metadata": {},
     "output_type": "execute_result"
    }
   ],
   "source": [
    "Pu = U * U'\n",
    "yhat = Pu*y"
   ]
  },
  {
   "cell_type": "markdown",
   "metadata": {},
   "source": [
    "##### Function application "
   ]
  },
  {
   "cell_type": "code",
   "execution_count": 9,
   "metadata": {
    "collapsed": false
   },
   "outputs": [
    {
     "data": {
      "text/plain": [
       "gram_orthog (generic function with 1 method)"
      ]
     },
     "execution_count": 9,
     "metadata": {},
     "output_type": "execute_result"
    }
   ],
   "source": [
    "function gram_orthog{T}(X::Matrix{T})\n",
    "\n",
    "    n = size(X,1)\n",
    "    U = Array(Float64,size(X))\n",
    "    xx = X[:,1]\n",
    "    U[:,1] = xx/norm(xx)\n",
    "    M = eye(n) - xx*((xx'*xx)\\xx')\n",
    "    for j=2:size(X,2)\n",
    "        v = M*X[:,j]\n",
    "        U[:,j] = v/norm(v)\n",
    "        xx = X[:,1:j]\n",
    "        M = eye(n) - xx*((xx'*xx)\\xx')\n",
    "    end\n",
    "    return U\n",
    "end"
   ]
  },
  {
   "cell_type": "code",
   "execution_count": 10,
   "metadata": {
    "collapsed": false
   },
   "outputs": [
    {
     "data": {
      "text/plain": [
       "3x2 Array{Float64,2}:\n",
       " 0.447214  -0.131876\n",
       " 0.0       -0.989071\n",
       " 0.894427   0.065938"
      ]
     },
     "execution_count": 10,
     "metadata": {},
     "output_type": "execute_result"
    }
   ],
   "source": [
    "U = gram_orthog(X)"
   ]
  },
  {
   "cell_type": "code",
   "execution_count": 11,
   "metadata": {
    "collapsed": false
   },
   "outputs": [],
   "source": [
    "Z = rand(20,5);"
   ]
  },
  {
   "cell_type": "code",
   "execution_count": 12,
   "metadata": {
    "collapsed": false
   },
   "outputs": [
    {
     "data": {
      "text/plain": [
       "5x5 Array{Float64,2}:\n",
       "  1.0          -2.28116e-16  -2.98372e-16  -1.03433e-16  -1.76074e-16\n",
       " -2.28116e-16   1.0           3.05311e-16   6.6093e-16    2.498e-16  \n",
       " -2.98372e-16   3.05311e-16   1.0           5.55112e-16   2.22045e-16\n",
       " -1.03433e-16   6.6093e-16    5.55112e-16   1.0          -7.63278e-17\n",
       " -1.76074e-16   2.498e-16     2.22045e-16  -7.63278e-17   1.0        "
      ]
     },
     "execution_count": 12,
     "metadata": {},
     "output_type": "execute_result"
    }
   ],
   "source": [
    "Uu = gram_orthog(Z);\n",
    "Uu'*Uu"
   ]
  },
  {
   "cell_type": "markdown",
   "metadata": {},
   "source": [
    "#### Method 3"
   ]
  },
  {
   "cell_type": "markdown",
   "metadata": {},
   "source": [
    "Use the same expression $Py = UU'$ but obtain $U$ from the $QR$ decomposition routine. "
   ]
  },
  {
   "cell_type": "code",
   "execution_count": 13,
   "metadata": {
    "collapsed": false
   },
   "outputs": [
    {
     "data": {
      "text/plain": [
       "(\n",
       "3x2 Array{Float64,2}:\n",
       " -0.447214  -0.131876\n",
       "  0.0       -0.989071\n",
       " -0.894427   0.065938,\n",
       "\n",
       "2x2 Array{Float64,2}:\n",
       " -2.23607  -1.78885\n",
       "  0.0       6.0663 )"
      ]
     },
     "execution_count": 13,
     "metadata": {},
     "output_type": "execute_result"
    }
   ],
   "source": [
    "Q, R = qr(X)"
   ]
  },
  {
   "cell_type": "code",
   "execution_count": 14,
   "metadata": {
    "collapsed": false
   },
   "outputs": [
    {
     "data": {
      "text/plain": [
       "3-element Array{Float64,1}:\n",
       " -0.565217\n",
       "  3.26087 \n",
       " -2.21739 "
      ]
     },
     "execution_count": 14,
     "metadata": {},
     "output_type": "execute_result"
    }
   ],
   "source": [
    "yhat = Q*Q'y"
   ]
  },
  {
   "cell_type": "markdown",
   "metadata": {},
   "source": [
    "Notice that $\\hat{y} \\in \\text{span } \\{x_1,x_2\\}$ as we can see below."
   ]
  },
  {
   "cell_type": "code",
   "execution_count": 17,
   "metadata": {
    "collapsed": false
   },
   "outputs": [
    {
     "data": {
      "text/plain": [
       "3-element Array{Float64,1}:\n",
       " -0.565217\n",
       "  3.26087 \n",
       " -2.21739 "
      ]
     },
     "execution_count": 17,
     "metadata": {},
     "output_type": "execute_result"
    }
   ],
   "source": [
    "b = X\\yhat;\n",
    "X*b"
   ]
  }
 ],
 "metadata": {
  "kernelspec": {
   "display_name": "Julia 0.4.3",
   "language": "julia",
   "name": "julia-0.4"
  },
  "language_info": {
   "file_extension": ".jl",
   "mimetype": "application/julia",
   "name": "julia",
   "version": "0.4.3"
  }
 },
 "nbformat": 4,
 "nbformat_minor": 0
}
