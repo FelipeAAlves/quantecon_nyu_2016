{
 "cells": [
  {
   "cell_type": "markdown",
   "metadata": {},
   "source": [
    "## Homework 7"
   ]
  },
  {
   "cell_type": "markdown",
   "metadata": {},
   "source": [
    "The risk neutral asset pricing equation for a random payoff $G_{t+1}$ at $t+1$ is given by\n",
    "\n",
    "$$ p_t = \\beta \\mathbb{E}_{t} [G_{t+1}]$$\n",
    "\n",
    "In case of an ex-dividend asset with dividend flow $\\{D_t\\}$, the above equation becomes\n",
    "\n",
    "$$ p_t = \\beta \\mathbb{E}_t[ D_t + p_{t+1} ] $$\n",
    "\n",
    "For the purposes of the exercise, let the dividends be a invariant function of some state process $\\{X_t\\}$ that takes values in countable set $S$, that is $D_t = d(X_t)$. Moreover, let the state process be Markov with transition probabilities given by $q(x,y)$.\n",
    "\n",
    "Note first that equilibrium prices should be a function of current information set, which, in priciple, could include the whole history of endowment process up to $t$. \n",
    "However, given our specialization of the divendend process, the only information needed to compute probabilities of future paths of dividends and, hence, the price itself, is the present state value $X_t$. Therefore, we conclude that  price $p_t$ can be represented as a function of that variable only.\n",
    "\n",
    "So instead of trying to solve for the whole stochastic process $\\{p_t\\}$ as a function of $\\{D_t\\}$, our problem reduces to solving for a single pricing function $p: S \\rightarrow \\mathbb{R}$ that satisfies the following **functional equation**\n",
    "\n",
    "$$ p(x) = \\beta \\sum_{y\\in S} q(x,y) \\big[d(y) + p(y) \\big] \\quad \\forall x \\in \\tag{1}S$$"
   ]
  },
  {
   "cell_type": "markdown",
   "metadata": {},
   "source": [
    "#### Theorem 1\n",
    "If $d\\in \\mathbb{B}(S)$, then there exists a unique price function $p* \\in \\mathbb{B}(S)$ that solves (1). Moreover, for any $q\\in \\mathbb{B}(S)$ we have $T^nq \\rightarrow p^*$ where $T:\\mathbb{B}(S)\\rightarrow \\mathbb{B}(S)$ is defined by \n",
    "\n",
    "$$ (Tq)(x) \\equiv \\beta \\sum_{y\\in S} q(x,y)[d(y) + q(y)] \\quad \\forall x\\in S$$"
   ]
  },
  {
   "cell_type": "code",
   "execution_count": 1,
   "metadata": {
    "collapsed": true
   },
   "outputs": [],
   "source": [
    "using QuantEcon"
   ]
  },
  {
   "cell_type": "code",
   "execution_count": 2,
   "metadata": {
    "collapsed": false
   },
   "outputs": [
    {
     "data": {
      "text/plain": [
       "AssetPrice"
      ]
     },
     "execution_count": 2,
     "metadata": {},
     "output_type": "execute_result"
    }
   ],
   "source": [
    "type AssetPrice\n",
    "    β::Float64\n",
    "    d::Vector{Float64}\n",
    "    mc::Vector{QuantEcon.MarkovChain{Float64}}\n",
    "end\n",
    "\n",
    "function AssetPrice()\n",
    "    β  = 0.98\n",
    "    Π1 = [0.971 0.029 0  ; 0.145 0.778 0.077 ; 0 0.508 0.492 ]\n",
    "    Π2 = [0.871 0.029 0.1; 0.145 0.778 0.077 ; 0 0.508 0.492 ]\n",
    "    \n",
    "    mc1 = MarkovChain(Π1)\n",
    "    mc2 = MarkovChain(Π2)\n",
    "    mc  = [mc1,mc2]\n",
    "    d   = [1.0, 0. , 0.]\n",
    "    \n",
    "    AssetPrice(β, d, mc)\n",
    "end"
   ]
  },
  {
   "cell_type": "code",
   "execution_count": 3,
   "metadata": {
    "collapsed": false
   },
   "outputs": [
    {
     "data": {
      "text/plain": [
       "bellman_oper (generic function with 2 methods)"
      ]
     },
     "execution_count": 3,
     "metadata": {},
     "output_type": "execute_result"
    }
   ],
   "source": [
    "function bellman_oper(ap::AssetPrice, q::Vector{Float64}, ind::Int64 = 1)\n",
    "    β, d, Π = ap.β, ap.d, ap.mc[ind].p\n",
    "    p = β * Π * (d + q)\n",
    "    return p \n",
    "end"
   ]
  },
  {
   "cell_type": "code",
   "execution_count": 4,
   "metadata": {
    "collapsed": false
   },
   "outputs": [
    {
     "name": "stdout",
     "output_type": "stream",
     "text": [
      "Compute iterate 20 with error 0.547587809459916\n"
     ]
    },
    {
     "data": {
      "text/plain": [
       "3-element Array{Float64,1}:\n",
       " 40.7593\n",
       " 35.9604\n",
       " 34.5715"
      ]
     },
     "execution_count": 4,
     "metadata": {},
     "output_type": "execute_result"
    }
   ],
   "source": [
    "# Initialize an instance of AssetPrice problem\n",
    "ap = AssetPrice()\n",
    "bo(q) = bellman_oper(ap,q)\n",
    "\n",
    "# Use the compute_fixed_point function from QuantEcon to find the fixed point\n",
    "p0 = [0., 0., 0.]\n",
    "p₁ = compute_fixed_point(bo, p0, err_tol=1e-5,max_iter=1000, print_skip = 20)"
   ]
  },
  {
   "cell_type": "markdown",
   "metadata": {},
   "source": [
    "Note that solution is the same regardless of the initial point chosen"
   ]
  },
  {
   "cell_type": "code",
   "execution_count": 5,
   "metadata": {
    "collapsed": false
   },
   "outputs": [
    {
     "name": "stdout",
     "output_type": "stream",
     "text": [
      "Compute iterate 40 with error 0.36239836634364053\n",
      "Compute iterate 60 with error 0.24185476774146863\n",
      "Compute iterate 80 with error 0.16146188129724948\n",
      "Compute iterate 100 with error 0.10779317760768237\n",
      "Compute iterate 120 with error 0.07196358302083894\n",
      "Compute iterate 140 with error 0.04804346165644091\n",
      "Compute iterate 160 with error 0.03207419799136346\n",
      "Compute iterate 180 with error 0.02141299026665422\n",
      "Compute iterate 200 with error 0.014295483001134812\n",
      "Compute iterate 220 with error 0.009543778411646997\n",
      "Compute iterate 240 with error 0.0063715025482835586\n",
      "Compute iterate 260 with error 0.004253665893287462\n",
      "Compute iterate 280 with error 0.002839781259538654\n",
      "Compute iterate 300 with error 0.0018958606069148232\n",
      "Compute iterate 320 with error 0.0012656916545168428\n",
      "Compute iterate 340 with error 0.0008449858383414721\n",
      "Compute iterate 360 with error 0.0005641192816909779\n",
      "Compute iterate 380 with error 0.000376610529485788\n",
      "Compute iterate 400 with error 0.0002514281917314065\n",
      "Compute iterate 420 with error 0.00016785546512210203\n",
      "Compute iterate 440 with error 0.00011206164661814455\n",
      "Compute iterate 460 with error 7.481324860947325e-5\n",
      "Compute iterate 480 with error 4.994592116958074e-5\n",
      "Compute iterate 500 with error 3.3344295125914414e-5\n",
      "Compute iterate 520 with error 2.2260917241112566e-5\n",
      "Compute iterate 540 with error 1.486156580909892e-5\n",
      "Compute iterate 560 with error 9.921699806625384e-6\n",
      "Converged in 560 steps\n"
     ]
    },
    {
     "data": {
      "text/plain": [
       "3-element Array{Float64,1}:\n",
       " 40.7593\n",
       " 35.9604\n",
       " 34.5715"
      ]
     },
     "execution_count": 5,
     "metadata": {},
     "output_type": "execute_result"
    }
   ],
   "source": [
    "p0 = [0.2, 1., 0.28912]\n",
    "p₁ = compute_fixed_point(bo, p0, err_tol=1e-5,max_iter=1000, verbose=false)"
   ]
  },
  {
   "cell_type": "markdown",
   "metadata": {},
   "source": [
    "Notice that for this simple example, we could have instead solved directly for $p$. If we assume $S$ finite, as we did in the exercise, (1) turns out to be just a linear system of equations with solution given by\n",
    "\n",
    "$$ \\mathbf{p} = \\beta \\Pi (\\mathbf{d} + \\mathbf{p}) \\Rightarrow \\mathbf{p} = (I - \\beta \\Pi)^{-1} \\beta \\Pi \\mathbf{d}$$\n",
    "\n",
    "which gives the same answer (checked below). However, while this approach is only possible in very specific examples, the value function iteration considered first is still valid with no change whatsoever in much more complicated and richer settings. "
   ]
  },
  {
   "cell_type": "code",
   "execution_count": 6,
   "metadata": {
    "collapsed": false
   },
   "outputs": [
    {
     "data": {
      "text/plain": [
       "3-element Array{Float64,1}:\n",
       " 40.7598\n",
       " 35.9609\n",
       " 34.572 "
      ]
     },
     "execution_count": 6,
     "metadata": {},
     "output_type": "execute_result"
    }
   ],
   "source": [
    "β, d, Π = ap.β, ap.d, ap.mc[1].p\n",
    "pcheck = (eye(3) - β * Π) \\ (β * Π * d)"
   ]
  },
  {
   "cell_type": "markdown",
   "metadata": {},
   "source": [
    "Computing the prices according to $\\Pi_2$"
   ]
  },
  {
   "cell_type": "code",
   "execution_count": 7,
   "metadata": {
    "collapsed": false
   },
   "outputs": [
    {
     "data": {
      "text/plain": [
       "3-element Array{Float64,1}:\n",
       " 23.5007\n",
       " 21.0983\n",
       " 20.2835"
      ]
     },
     "execution_count": 7,
     "metadata": {},
     "output_type": "execute_result"
    }
   ],
   "source": [
    "bo(q) = bellman_oper(ap,q,2)\n",
    "\n",
    "# Use the compute_fixed_point function from QuantEcon\n",
    "p0 = [0., 0., 0.]\n",
    "p₂ = compute_fixed_point(bo, p0, err_tol=1e-5,max_iter=1000, verbose=false)"
   ]
  },
  {
   "cell_type": "markdown",
   "metadata": {},
   "source": [
    "### Exercise 2"
   ]
  },
  {
   "cell_type": "markdown",
   "metadata": {},
   "source": [
    "Now consider the asset pricing problem with **heterogeneous beliefs**. \n",
    "There are two types $i=1,2$ of investors which differ on their beliefs about the markov transition $\\Pi_i$. \n",
    "Under the assumption that short sales of the asset are not permitted, the equilibrium condition becomes \n",
    "\n",
    "$$p(x) = \\beta \\max_{i\\in\\{1,2\\}} \\Big\\{ \\sum_{y\\in S} q_i(x,y) \\big[ d(y) + p(y) \\big] \\Big\\} \\tag{2}$$"
   ]
  },
  {
   "cell_type": "markdown",
   "metadata": {},
   "source": [
    "The previous **theorem** asserting existence and uniqueness of an equilibrium still holds. To see that, let $T_1,T_2: \\mathbb{B}(S)\\rightarrow \\mathbb{B}(S)$ denote our previous mappings, where the indexes are associated to the corresponding Markov chain used to form expectations about next period state variable.\n",
    "\n",
    "In this case, the new equilibrium price becomes the fixed point of the following mapping\n",
    "\n",
    "$$ (Tq)(x) \\equiv \\max \\Big\\{ (T_1q)(x),(T_2q)(x) \\Big\\} \\quad \\forall x \\in S$$"
   ]
  },
  {
   "cell_type": "markdown",
   "metadata": {},
   "source": [
    "Since $Tq$ is the upper envelope of two bounded functions, it is itself bounded so all we need to check to guarantee existence and uniqueness of the fixed point is that the operator retains the contraction property of $T_1,T_2$. Let $p,q \\in \\mathbb{B}(S)$ and $x\\in S$. It follows that\n",
    "\n",
    "$$ \n",
    "\\begin{align*}\n",
    "\\Big| Tp(x) - Tq(x) \\Big| & =  \\Big| \\max\\big\\{ (T_1p) (x),(T_2p)(x) \\big\\} - \\max \\big\\{ (T_1q) (x),(T_2q)(x) \\big\\} \\Big| \\\\\n",
    "       &\\le \\max \\bigg\\{ \\Big| (T_1p) (x) - (T_1q) (x) \\Big| , \\ \\Big| (T_2p) (x) - (T_2q) (x) \\Big| \\bigg\\} \\\\\n",
    "       &\\le \\max \\bigg\\{ d_{\\infty} \\big( T_1p, T_1q \\big), d_{\\infty} \\big( T_2p, T_2q \\big) \\bigg\\} \\\\\n",
    "       &\\le \\beta d_{\\infty}(p,q)\n",
    "\\end{align*}\n",
    "$$\n",
    "\n",
    "where second line follows from tip (proven below), third from definition of $d_{\\infty}$ distance and last one from the fact that $T_1,T_2$ are themselves $\\beta$-contractions as proved in the first **theorem**. Since $x$ is arbitrary, we have $d_{\\infty} (Tp,Tq) \\le \\beta d_{\\infty}(p,q)$ so $T$ is a contraction. \n",
    "\n",
    "####  Lemma\n",
    "Let $(a_i),(b_i) \\in \\mathbb{R}^{I}$ with $I$ an arbitrary index set. Then the following inequality holds\n",
    "$$\\left| \\sup_{i\\in I} a_i - \\sup_{i\\in I}b_i \\right| \\le \\sup_{i\\in I} \\big|a_i - b_i \\big|$$\n",
    "\n",
    "##### Proof\n",
    "Note that\n",
    "$$\n",
    "\\begin{align*}\n",
    "a_i = ai - b_i + b_i & \\le |a_i - b_i| + b_i \\\\\n",
    "                     & \\le sup_{i\\in I} |a_i - b_i| + \\sup_{i\\in I} b_i  \\quad \\forall i \\in I\\\\ \n",
    "\\end{align*}\n",
    "$$\n",
    "Since $i$ on the LHS is arbitrary, we have the following inequality\n",
    "$$ \\sup_{i\\in I}a_i - \\sup_{i\\in I} b_i \\le sup_{i\\in I} |a_i - b_i|  $$\n",
    "But notice that had we started with $b_i$ we would get the same but with \n",
    "$$ \\sup_{i\\in I}b_i - \\sup_{i\\in I} a_i \\le sup_{i\\in I} |a_i - b_i|  $$\n",
    "which gives the desired inequality."
   ]
  },
  {
   "cell_type": "markdown",
   "metadata": {
    "collapsed": true
   },
   "source": [
    "### Exercise 3"
   ]
  },
  {
   "cell_type": "code",
   "execution_count": 8,
   "metadata": {
    "collapsed": false
   },
   "outputs": [
    {
     "data": {
      "text/plain": [
       "bellman_oper_het (generic function with 1 method)"
      ]
     },
     "execution_count": 8,
     "metadata": {},
     "output_type": "execute_result"
    }
   ],
   "source": [
    "function bellman_oper_het(ap::AssetPrice, q::Vector{Float64})\n",
    "    β, d, mc = ap.β, ap.d, ap.mc\n",
    "    Π = [mc[i].p for i in 1:length(mc)]\n",
    "    \n",
    "    p = [β * Π[i] * (d + q) for i in 1:length(mc)]\n",
    "    p = squeeze(maximum( hcat(p...),2 ),2)\n",
    "    \n",
    "    return p \n",
    "end"
   ]
  },
  {
   "cell_type": "code",
   "execution_count": 9,
   "metadata": {
    "collapsed": false
   },
   "outputs": [
    {
     "name": "stdout",
     "output_type": "stream",
     "text": [
      "Converged in 1 steps\n"
     ]
    },
    {
     "data": {
      "text/plain": [
       "3-element Array{Float64,1}:\n",
       " 40.7593\n",
       " 35.9604\n",
       " 34.5715"
      ]
     },
     "execution_count": 9,
     "metadata": {},
     "output_type": "execute_result"
    }
   ],
   "source": [
    "bohet(q) = bellman_oper_het(ap,q)\n",
    "\n",
    "phb₁ = compute_fixed_point(bohet, p₁, err_tol=1e-5,max_iter=1000, print_skip = 100)"
   ]
  },
  {
   "cell_type": "markdown",
   "metadata": {},
   "source": [
    "which is *equal* to the price we got before!!! The reason is that in equilibrium with heterogeneous beliefs the agent with more optimistic views of transition probabilities will be the one to hold and, therefore, price the asset in equilibrium. If we take a look at $\\Pi_1$ and $\\Pi_2$ is easy to check that agent 1 is always more optmistic than agent 2, so we get the same prices as before"
   ]
  },
  {
   "cell_type": "code",
   "execution_count": 10,
   "metadata": {
    "collapsed": false
   },
   "outputs": [
    {
     "data": {
      "text/plain": [
       "3x2 Array{Float64,2}:\n",
       " 40.7593  40.0549\n",
       " 35.9604  35.9604\n",
       " 34.5715  34.5715"
      ]
     },
     "execution_count": 10,
     "metadata": {},
     "output_type": "execute_result"
    }
   ],
   "source": [
    "q = phb₁\n",
    "β, d, mc = ap.β, ap.d, ap.mc\n",
    "Π = [mc[i].p for i in 1:length(mc)]\n",
    "\n",
    "p = [β * Π[i] * (d + q) for i in 1:length(mc)]\n",
    "hcat(p...)"
   ]
  },
  {
   "cell_type": "markdown",
   "metadata": {},
   "source": [
    "If we replace agent 2's probability assessment to "
   ]
  },
  {
   "cell_type": "code",
   "execution_count": 11,
   "metadata": {
    "collapsed": false
   },
   "outputs": [
    {
     "data": {
      "text/plain": [
       "AssetPrice(0.98,[1.0,0.0,0.0],QuantEcon.MarkovChain{Float64,TM<:AbstractArray{T,2},TV<:AbstractArray{T,1}}[Discrete Markov Chain\n",
       "stochastic matrix of type Array{Float64,2}:\n",
       "3x3 Array{Float64,2}:\n",
       " 0.971  0.029  0.0  \n",
       " 0.145  0.778  0.077\n",
       " 0.0    0.508  0.492\n",
       ",Discrete Markov Chain\n",
       "stochastic matrix of type Array{Float64,2}:\n",
       "3x3 Array{Float64,2}:\n",
       " 0.871  0.029  0.1  \n",
       " 0.212  0.778  0.01 \n",
       " 0.0    0.508  0.492\n",
       "])"
      ]
     },
     "execution_count": 11,
     "metadata": {},
     "output_type": "execute_result"
    }
   ],
   "source": [
    "Π2alt = [0.871 0.029 0.1; 0.212 0.778 0.01 ; 0 0.508 0.492 ]\n",
    "\n",
    "mc2 = copy(mc)\n",
    "mc2[2] = MarkovChain(Π2alt)\n",
    "\n",
    "ap2 = AssetPrice(ap.β, ap.d, mc2)"
   ]
  },
  {
   "cell_type": "markdown",
   "metadata": {},
   "source": [
    "we get that the asset will change hands in equilibrium"
   ]
  },
  {
   "cell_type": "code",
   "execution_count": 12,
   "metadata": {
    "collapsed": false
   },
   "outputs": [
    {
     "name": "stdout",
     "output_type": "stream",
     "text": [
      "Converged in 429 steps\n"
     ]
    },
    {
     "data": {
      "text/plain": [
       "3-element Array{Float64,1}:\n",
       " 43.3678\n",
       " 40.4046\n",
       " 38.8441"
      ]
     },
     "execution_count": 12,
     "metadata": {},
     "output_type": "execute_result"
    }
   ],
   "source": [
    "bohet(q) = bellman_oper_het(ap2,q)\n",
    "\n",
    "phb₂ = compute_fixed_point(bohet, phb₁, err_tol=1e-5,max_iter=1000, verbose=false)"
   ]
  },
  {
   "cell_type": "markdown",
   "metadata": {},
   "source": [
    "and find that the equilibrium price is actually strictly larger than each agent's expected discounted value of future dividends. \n",
    "*In equilibrium, each agent attributes a higher value to the asset because he knows he can sell it to the other type on states where his valuation is below the actual price*"
   ]
  },
  {
   "cell_type": "code",
   "execution_count": 13,
   "metadata": {
    "collapsed": false
   },
   "outputs": [
    {
     "data": {
      "text/plain": [
       "3x2 Array{Float64,2}:\n",
       " 43.3678  42.8265\n",
       " 40.0419  40.4046\n",
       " 38.8441  38.8441"
      ]
     },
     "execution_count": 13,
     "metadata": {},
     "output_type": "execute_result"
    }
   ],
   "source": [
    "β, d, mc = ap2.β, ap2.d, ap2.mc\n",
    "Π = [mc[i].p for i in 1:length(mc)]\n",
    "\n",
    "p = [β * Π[i] * (d + phb₂) for i in 1:length(mc)]\n",
    "hcat(p...)"
   ]
  },
  {
   "cell_type": "markdown",
   "metadata": {},
   "source": [
    "## SUMMARY"
   ]
  },
  {
   "cell_type": "markdown",
   "metadata": {},
   "source": [
    "state $\\ $ |$\\ $ normal growth  $\\ $|$\\ $ mild recession $\\ $|$\\ $ severe recession $\\ $\n",
    ":-------------:|:-------------:|:--------------:|:----------------:\n",
    "               |               |                |   \n",
    "$p_1$          | 40.7593       | 35.9604        | 34.5715  \n",
    "$p_2$          | 23.5007       | 21.0983        | 20.2835  \n",
    "$p^{hb}_1$     | 40.7593       | 35.9604        | 34.5715  \n",
    "$p^{hb}_2$     | 43.3678       | 40.4046        | 38.8441"
   ]
  }
 ],
 "metadata": {
  "kernelspec": {
   "display_name": "Julia 0.4.3",
   "language": "julia",
   "name": "julia-0.4"
  },
  "language_info": {
   "file_extension": ".jl",
   "mimetype": "application/julia",
   "name": "julia",
   "version": "0.4.3"
  }
 },
 "nbformat": 4,
 "nbformat_minor": 0
}
