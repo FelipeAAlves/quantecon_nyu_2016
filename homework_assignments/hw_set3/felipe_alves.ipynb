{
 "cells": [
  {
   "cell_type": "markdown",
   "metadata": {},
   "source": [
    "### Homework 3 - Felipe Alves (N14713445)\n",
    "\n",
    "Program that obtains the daily percentage change in the share price of each of these companies by sending a query to the the Yahoo finance API and produces a scatter plot of absolute value of percentage change against log market capitalization\n",
    "\n",
    "To do it I created a Class called Firm to store firms' information and to get the price.\n",
    "\n",
    "PS: I adapted the code for both datasets. Choose the right one at cell below"
   ]
  },
  {
   "cell_type": "code",
   "execution_count": 5,
   "metadata": {
    "collapsed": true
   },
   "outputs": [],
   "source": [
    "# data = open('company_list_old.csv','r'); ind_data = 'o'\n",
    "data = open('company_list_corrected.csv','r'); ind_data = 'c'\n",
    "\n"
   ]
  },
  {
   "cell_type": "code",
   "execution_count": 2,
   "metadata": {
    "collapsed": true
   },
   "outputs": [],
   "source": [
    "import re\n",
    "import requests\n",
    "import matplotlib.pyplot as plt\n",
    "\n",
    "class Firm(object):\n",
    "    r\"\"\"\n",
    "    Creates an instance of a firm that holds its characteristics and \n",
    "    has get_price method\n",
    "    \"\"\"\n",
    "    def __init__(self, symbol, name, mktcap ):\n",
    "        self.symbol, self.name, self.mktcap = symbol, name, mktcap\n",
    "        \n",
    "        # Indicator for LowerCap Stock < 2B\n",
    "        self.bc = 1 if mktcap > 2000 else 0\n",
    "\n",
    "    def get_price(self):\n",
    "        r\"\"\"\n",
    "        Ask for % price change in yahoo\n",
    "        \"\"\"\n",
    "\n",
    "        info = {'s': self.symbol, 'f': 'p2'}\n",
    "        \n",
    "        r = requests.get('http://finance.yahoo.com/d/quotes.csv', info)\n",
    "        match = re.search(r'(\\d+\\.?\\d*)%?',r.text) \n",
    "        self.ppc = float(match.group(1)) if match else []"
   ]
  },
  {
   "cell_type": "code",
   "execution_count": 10,
   "metadata": {
    "collapsed": false
   },
   "outputs": [],
   "source": [
    "# check the class definition and methods\n",
    "help(Firm)"
   ]
  },
  {
   "cell_type": "code",
   "execution_count": 6,
   "metadata": {
    "collapsed": false
   },
   "outputs": [
    {
     "name": "stdout",
     "output_type": "stream",
     "text": [
      "TFSC  1347 Capital Corp.                            18.13\n",
      "TFSCR 1347 Capital Corp.                            -1.00\n",
      "TFSCU 1347 Capital Corp.                            -1.00\n",
      "TFSCW 1347 Capital Corp.                            -1.00\n",
      "PIH   1347 Property Insurance Holding               38.64\n",
      "FLWS  1-800 FLOWERS.COM, Inc.                      519.58\n",
      "FCTY  1st Century Bancshares, Inc                   79.02\n",
      "FCCY  1st Constitution Bancorp (NJ)                 92.93\n",
      "SRCE  1st Source Corporation                       792.96\n",
      "VNET  21Vianet Group, Inc.                        1660.00\n",
      "TWOU  2U, Inc.                                     858.65\n",
      "JOBS  51job, Inc.                                 1670.00\n",
      "SIXD  6D GLOBAL TECHNOLOGI                         226.92\n",
      "CAFD  8point3 Energy Partners LP                   316.31\n",
      "EGHT  8x8 Inc                                      979.21\n",
      "AVHI  A V Homes, Inc.                              206.91\n",
      "SHLM  A. Schulman, Inc.                            716.82\n",
      "AAON  AAON, Inc.                                  1160.00\n",
      "ABAX  ABAXIS, Inc.                                 892.32\n",
      "ABY   Abengoa Yield plc                           1600.00\n",
      "ABGB  Abengoa, S.A.                               1450.00\n",
      "ABEO  Abeona Therapeutics Inc.                      81.18\n",
      "ABEOW Abeona Therapeutics Inc.                      -1.00\n",
      "ABIL  Ability Inc.                              855220.00\n",
      "ABILW Ability Inc.                                  -1.00\n",
      "ABMD  ABIOMED, Inc.                               3500.00\n",
      "AXAS  Abraxas Petroleum Corporation                100.08\n",
      "ACTG  Acacia Research Corporation                  195.84\n",
      "ACHC  Acadia Healthcare Company, Inc.             3970.00\n",
      "ACAD  ACADIA Pharmaceuticals Inc.                 2030.00\n",
      "ACST  Acasti Pharma, Inc.                           16.74\n",
      "AXDX  Accelerate Diagnostics, Inc.                 538.20\n",
      "XLRN  Acceleron Pharma Inc.                        888.85\n",
      "ANCX  Access National Corporation                  203.18\n",
      "ARAY  Accuray Incorporated                         406.64\n",
      "VXDN  AccuShares Spot CBOE VIX Down S               -1.00\n",
      "VXUP  AccuShares Spot CBOE VIX Up Sha               -1.00\n",
      "ACRX  AcelRx Pharmaceuticals, Inc.                 171.11\n",
      "ACET  Aceto Corporation                            625.89\n",
      "AKAO  Achaogen, Inc.                                69.38\n",
      "ACHN  Achillion Pharmaceuticals, Inc.              942.15\n",
      "ACIW  ACI Worldwide, Inc.                         2170.00\n",
      "ACRS  Aclaris Therapeutics, Inc.                   337.83\n",
      "ACNB  ACNB Corporation                             131.84\n",
      "ACOR  Acorda Therapeutics, Inc.                   1490.00\n",
      "ACTS  Actions Semiconductor Co., Ltd.               61.60\n",
      "ACPW  Active Power, Inc.                            25.42\n",
      "ATVI  Activision Blizzard, Inc                   23100.00\n",
      "ACTA  Actua Corporation                            288.38\n",
      "ACUR  Acura Pharmaceuticals, Inc.                   25.25\n",
      "ACXM  Acxiom Corporation                          1570.00\n",
      "ADMS  Adamas Pharmaceuticals, Inc.                 271.91\n",
      "ADMP  Adamis Pharmaceuticals Corporat               71.72\n",
      "ADAP  Adaptimmune Therapeutics plc                 593.89\n",
      "ADUS  Addus HomeCare Corporation                   245.54\n",
      "AEY   ADDvantage Technologies Group,                16.62\n",
      "IOTS  Adesto Technologies Corporation               58.72\n",
      "ADMA  ADMA Biologics Inc                            48.21\n",
      "ADBE  Adobe Systems Incorporated                 41760.00\n",
      "ADTN  ADTRAN, Inc.                                 921.15\n",
      "ADRO  Aduro Biotech, Inc.                          925.60\n",
      "AAAP  Advanced Accelerator Applicatio             1080.00\n",
      "AEIS  Advanced Energy Industries, Inc             1190.00\n",
      "AITP  N/A                                           -1.00\n",
      "AITPU N/A                                           -1.00\n",
      "AMD   Advanced Micro Devices, Inc.                1590.00\n",
      "ADXS  Advaxis, Inc.                                212.07\n",
      "ADXSW Advaxis, Inc.                                 -1.00\n",
      "MAUI  AdvisorShares Market Adaptive U               -1.00\n",
      "YPRO  AdvisorShares YieldPro ETF                    -1.00\n",
      "AEGR  Aegerion Pharmaceuticals, Inc.               186.06\n",
      "AEGN  Aegion Corp                                  636.51\n",
      "AEHR  Aehr Test Systems                             16.06\n",
      "AMTX  Aemetis, Inc                                  35.83\n",
      "AEPI  AEP Industries Inc.                          391.09\n",
      "AERI  Aerie Pharmaceuticals, Inc.                  436.59\n",
      "AVAV  AeroVironment, Inc.                          586.58\n",
      "AEZS  AEterna Zentaris Inc.                         18.92\n",
      "AEMD  AETHLON MEDICAL INC                           37.27\n",
      "AFMD  Affimed N.V.                                  98.14\n",
      "AFFX  Affymetrix, Inc.                            1130.00\n",
      "AGEN  Agenus Inc.                                  253.94\n",
      "AGRX  Agile Therapeutics, Inc.                     134.20\n",
      "AGYS  Agilysys, Inc.                               238.51\n",
      "AGIO  Agios Pharmaceuticals, Inc.                 1470.00\n",
      "AGFS  AgroFresh Solutions, Inc.                    228.23\n",
      "AGFSW AgroFresh Solutions, Inc.                     -1.00\n",
      "AIMT  Aimmune Therapeutics, Inc.                   677.67\n",
      "AIRM  Air Methods Corporation                     1550.00\n",
      "AIRT  Air T, Inc.                                   57.07\n",
      "ATSG  Air Transport Services Group, I              728.54\n",
      "AMCN  AirMedia Group Inc                           334.19\n",
      "AIXG  Aixtron SE                                   426.23\n",
      "AKAM  Akamai Technologies, Inc.                   9640.00\n",
      "AKTX  Akari Therapeutics Plc                       121.30\n",
      "AKBA  Akebia Therapeutics, Inc.                    140.91\n",
      "AKER  Akers Biosciences Inc                          7.25\n",
      "AKRX  Akorn, Inc.                                 2940.00\n",
      "ALRM  Alarm.com Holdings, Inc.                     772.02\n",
      "ALSK  Alaska Communications Systems G               77.13\n",
      "END\n"
     ]
    }
   ],
   "source": [
    "# == Choose which dataset to Open == #\n",
    "next(data)\n",
    "firms = []\n",
    "i = 0\n",
    "print_firms = True\n",
    "\n",
    "for line in data:\n",
    "\n",
    "    #= extract info =#\n",
    "    ## USING Old dataset\n",
    "    if ind_data=='o':        \n",
    "        line = line.replace('\"','')\n",
    "        symbol, name, mk_cap = line.split(',')\n",
    "    ## USING corrected dataset\n",
    "    elif ind_data=='c':\n",
    "        symbol, name, mk_cap = re.split(r',(?=(?:[^\"]*\"[^\"]*\")*[^\"]*$)',line)\n",
    "        symbol = symbol.replace('\"','')\n",
    "        name = name.replace('\"','')\n",
    "    \n",
    "    match = re.search(r'\\$?(\\d+\\.?\\d*)([MB]?)',mk_cap)\n",
    "    \n",
    "    if match:\n",
    "        if match.group(2)=='': #\n",
    "            mktcap = float(match.group(1))\n",
    "        elif match.group(2)=='M':                   # if there is million in the END\n",
    "            mktcap = float(match.group(1))\n",
    "        elif match.group(2)=='B':                   # if there is Billion in the END \n",
    "            mktcap = float(match.group(1))*1000\n",
    "    else:\n",
    "        mktcap = -1.0\n",
    "\n",
    "    print('{0:5s} {1:40s} {2:10.2f}'.format(symbol,name,mktcap)) if print_firms==True else None\n",
    "    f = Firm(symbol,name,mktcap)\n",
    "    \n",
    "    f.get_price()\n",
    "    firms.append(f)\n",
    "    i+=1\n",
    "    if i==100:\n",
    "        break\n",
    "        \n",
    "print('END')        "
   ]
  },
  {
   "cell_type": "code",
   "execution_count": 7,
   "metadata": {
    "collapsed": false
   },
   "outputs": [],
   "source": [
    "# [(f.mktcap,f.ppc) for f in firms]"
   ]
  },
  {
   "cell_type": "code",
   "execution_count": 7,
   "metadata": {
    "collapsed": false
   },
   "outputs": [
    {
     "data": {
      "image/png": "[encoded data removed]",
      "text/plain": [
       "<matplotlib.figure.Figure at 0x10c3aa048>"
      ]
     },
     "metadata": {},
     "output_type": "display_data"
    },
    {
     "data": {
      "text/plain": [
       "84"
      ]
     },
     "execution_count": 7,
     "metadata": {},
     "output_type": "execute_result"
    }
   ],
   "source": [
    "%matplotlib inline\n",
    "from numpy import log # just to draw a better graph\n",
    "\n",
    "# == extract the indices without any missing information == #\n",
    "ind = []\n",
    "i = 0\n",
    "for f in firms:\n",
    "    ind.append(i) if f.mktcap != -1.0 and f.ppc !=0.00 else None\n",
    "    i+=1\n",
    "ind\n",
    "\n",
    "lmc  =  [log(firms[i].mktcap) for i in ind]\n",
    "ppc =   [abs(firms[i].ppc) for i in ind]\n",
    "\n",
    "fig, ax = plt.subplots()\n",
    "ax.scatter(lmc, ppc , color = 'red')\n",
    "ax.set_xlabel('Market Cap')\n",
    "ax.set_ylabel('% Price Change')\n",
    "plt.show()\n",
    "\n",
    "len(ind)"
   ]
  },
  {
   "cell_type": "code",
   "execution_count": null,
   "metadata": {
    "collapsed": true
   },
   "outputs": [],
   "source": []
  }
 ],
 "metadata": {
  "kernelspec": {
   "display_name": "Python 3",
   "language": "python",
   "name": "python3"
  },
  "language_info": {
   "codemirror_mode": {
    "name": "ipython",
    "version": 3
   },
   "file_extension": ".py",
   "mimetype": "text/x-python",
   "name": "python",
   "nbconvert_exporter": "python",
   "pygments_lexer": "ipython3",
   "version": "3.5.1"
  }
 },
 "nbformat": 4,
 "nbformat_minor": 0
}
