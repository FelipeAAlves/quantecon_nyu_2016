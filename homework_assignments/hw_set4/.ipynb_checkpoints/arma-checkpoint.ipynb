{
 "cells": [
  {
   "cell_type": "markdown",
   "metadata": {},
   "source": [
    "### Homework 4\n",
    "Felipe Alves - N14713445\n"
   ]
  },
  {
   "cell_type": "markdown",
   "metadata": {},
   "source": [
    "#### Question \n",
    "Show the downward bias of the OLS estimate of $\\alpha$ in the AR1 process\n",
    "\n",
    "$$ X_{t+1} = \\beta + \\alpha X_{t} + \\sigma W_{t+1}, \\quad \\{W_t\\} \\sim \\mathcal{N}(0,1) $$\n",
    "\n",
    "for sample sizes $n=50,100,150, \\ldots, 500$. "
   ]
  },
  {
   "cell_type": "code",
   "execution_count": 1,
   "metadata": {
    "collapsed": false
   },
   "outputs": [],
   "source": [
    "import quantecon as qe\n",
    "import numpy as np\n",
    "import matplotlib.pyplot as plt\n",
    "\n",
    "from numpy.random import randn\n",
    "from scipy.stats import linregress\n",
    "from scipy.linalg import inv\n",
    "from numba import jit\n"
   ]
  },
  {
   "cell_type": "code",
   "execution_count": 2,
   "metadata": {
    "collapsed": true
   },
   "outputs": [],
   "source": [
    "@jit\n",
    "def ar1_sim(bet,alp,sig,n):\n",
    "    \"\"\"\n",
    "    Simulates an AR(1) of form \n",
    "    \n",
    "    .. math::\n",
    "\n",
    "    X_{t+1} = β + α X_t + σ W_{t+1}\n",
    "    \n",
    "    and return { X }_{t=0}^{T} and { X }_{t=1}^{T+1}\n",
    "    for regression\n",
    "    \"\"\"\n",
    "    eps = randn(n)\n",
    "    x = np.zeros(n+1)\n",
    "    x[0] = bet/(1-alp)\n",
    "    for i in range(n):\n",
    "        x[i+1] = bet + alp*x[i] + eps[i]\n",
    "\n",
    "    return x[:-1],x[1:]"
   ]
  },
  {
   "cell_type": "markdown",
   "metadata": {},
   "source": [
    "I tested two alternative \n",
    "\n",
    "  * My jit ar1_sim function \n",
    "  \n",
    "  * ARMA class in the Quan Econ packages\n",
    "  \n",
    "testing how much time it takes to simulate the series"
   ]
  },
  {
   "cell_type": "code",
   "execution_count": 3,
   "metadata": {
    "collapsed": false
   },
   "outputs": [
    {
     "name": "stdout",
     "output_type": "stream",
     "text": [
      "The slowest run took 9.22 times longer than the fastest. This could mean that an intermediate result is being cached \n",
      "1 loops, best of 3: 48.2 ms per loop\n"
     ]
    }
   ],
   "source": [
    "timeit x,y = ar1_sim(0.0,0.5,1.0,int(10**6))"
   ]
  },
  {
   "cell_type": "code",
   "execution_count": 4,
   "metadata": {
    "collapsed": false
   },
   "outputs": [
    {
     "name": "stdout",
     "output_type": "stream",
     "text": [
      "CPU times: user 12.5 s, sys: 341 ms, total: 12.8 s\n",
      "Wall time: 13.3 s\n"
     ]
    }
   ],
   "source": [
    "lp = qe.ARMA(0.5)\n",
    "\n",
    "%time data = lp.simulation(int(10**6))"
   ]
  },
  {
   "cell_type": "markdown",
   "metadata": {},
   "source": [
    "Therefore, since the exercise deal with a specific AR(1) process we don't need \n",
    "the generality offered by the ARMA class and can work with \n",
    "the simple ar1_sim function, that has the benefit of being way faster. "
   ]
  },
  {
   "cell_type": "code",
   "execution_count": 5,
   "metadata": {
    "collapsed": false
   },
   "outputs": [],
   "source": [
    "# BIG loop\n",
    "\n",
    "# α values\n",
    "A = np.array( (0.5,0.6,0.7,0.8,0.9))\n",
    "# Number of simulation \n",
    "N = 100\n",
    "# Sample size\n",
    "nsize = range(50,500,50)\n",
    "\n",
    "# OLS estimates\n",
    "Eα̂ = np.zeros((len(A),len(nsize)))\n"
   ]
  },
  {
   "cell_type": "code",
   "execution_count": 6,
   "metadata": {
    "collapsed": false
   },
   "outputs": [],
   "source": [
    "def main(Eα̂, A, nsize, N=1000, print_plot = True):\n",
    "    \"\"\"\n",
    "    Compute the bias for different levels of \n",
    "    parameter α and sample size n\n",
    "    \n",
    "    \"\"\"\n",
    "    for j,alp in enumerate(A):\n",
    "        i=0\n",
    "        for n in nsize:\n",
    "            alp_hat = np.zeros(N)            \n",
    "            for k in range(N):                \n",
    "                x, y = ar1_sim(0.0,alp, 1.0, n)\n",
    "                \n",
    "                # OPTION 1                \n",
    "                X = np.concatenate((np.ones(n),x))\n",
    "                X.shape = (2,n)\n",
    "                alp_hat[k-1] = (inv(X @ X.T )@ (X @ y))[1]\n",
    "\n",
    "                # OPTION 2\n",
    "#                 alp_hat[k-1], _, _, _, _ = linregress(x,y)\n",
    "\n",
    "            Eα̂[j,i] = alp_hat.mean()\n",
    "            i+=1\n",
    "    \n",
    "    if print_plot:\n",
    "        fig,ax = plt.subplots(figsize =(8,5))\n",
    "        for i,α in enumerate(A):\n",
    "            current_label = r'$\\alpha = {0:.1f}$'.format(α)\n",
    "            ax.plot(list(nsize),Eα̂[i,:]-α, 'o', alpha = 0.7, label=current_label)\n",
    "        ax.legend(loc='lower right')\n",
    "        ax.set_xlabel(r'Sample Size')\n",
    "        ax.set_ylabel(r'Bias')\n",
    "        plt.show"
   ]
  },
  {
   "cell_type": "code",
   "execution_count": 7,
   "metadata": {
    "collapsed": true
   },
   "outputs": [],
   "source": [
    "main??"
   ]
  },
  {
   "cell_type": "code",
   "execution_count": 8,
   "metadata": {
    "collapsed": false
   },
   "outputs": [
    {
     "name": "stdout",
     "output_type": "stream",
     "text": [
      "CPU times: user 1min 5s, sys: 647 ms, total: 1min 6s\n",
      "Wall time: 1min 7s\n"
     ]
    },
    {
     "data": {
      "image/png": "[encoded data removed]",
      "text/plain": [
       "<matplotlib.figure.Figure at 0x119feb978>"
      ]
     },
     "metadata": {},
     "output_type": "display_data"
    }
   ],
   "source": [
    "%matplotlib inline\n",
    "\n",
    "%time main(Eα̂,A,nsize,10000)"
   ]
  },
  {
   "cell_type": "markdown",
   "metadata": {},
   "source": [
    "If I were to twy to optimize the ols with NUMBA, I wouldn't get any improvement"
   ]
  },
  {
   "cell_type": "code",
   "execution_count": 9,
   "metadata": {
    "collapsed": true
   },
   "outputs": [],
   "source": [
    "def ols_sim(Ealp_hat, A, nsize, N=1000):\n",
    "    \"\"\"\n",
    "    Compute the bias for different levels of \n",
    "    parameter α and sample size n\n",
    "    \n",
    "    \"\"\"\n",
    "    for j,alp in enumerate(A):\n",
    "        i=0\n",
    "        for n in nsize:\n",
    "            alp_hat = np.zeros(N)            \n",
    "            for k in range(N):                \n",
    "                x, y = ar1_sim(0.0,alp, 1.0, n)\n",
    "                \n",
    "                X = np.concatenate((np.ones(n),x))\n",
    "                X.shape = (2,n)\n",
    "                alp_hat[k-1] = (inv(X @ X.T )@ (X @ y))[1]\n",
    "                \n",
    "            Ealp_hat[j,i] = alp_hat.mean()\n",
    "            i+=1\n",
    "    return None\n",
    "\n",
    "ols_sim_numba = jit(ols_sim)"
   ]
  },
  {
   "cell_type": "code",
   "execution_count": 10,
   "metadata": {
    "collapsed": false
   },
   "outputs": [
    {
     "name": "stdout",
     "output_type": "stream",
     "text": [
      "1 loops, best of 3: 594 ms per loop\n"
     ]
    }
   ],
   "source": [
    "timeit ols_sim(Eα̂,A,nsize,100)"
   ]
  },
  {
   "cell_type": "code",
   "execution_count": 11,
   "metadata": {
    "collapsed": false
   },
   "outputs": [
    {
     "name": "stdout",
     "output_type": "stream",
     "text": [
      "1 loops, best of 3: 605 ms per loop\n"
     ]
    }
   ],
   "source": [
    "timeit ols_sim_numba(Eα̂,A,nsize,100)"
   ]
  }
 ],
 "metadata": {
  "kernelspec": {
   "display_name": "Python 3",
   "language": "python",
   "name": "python3"
  },
  "language_info": {
   "codemirror_mode": {
    "name": "ipython",
    "version": 3
   },
   "file_extension": ".py",
   "mimetype": "text/x-python",
   "name": "python",
   "nbconvert_exporter": "python",
   "pygments_lexer": "ipython3",
   "version": "3.5.1"
  }
 },
 "nbformat": 4,
 "nbformat_minor": 0
}
