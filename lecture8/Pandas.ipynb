{
 "cells": [
  {
   "cell_type": "markdown",
   "metadata": {},
   "source": [
    "# Intorduction to Pandas - Pan(el)-da(ta)-s\n",
    "\n",
    "#### Laszlo Tetenyi"
   ]
  },
  {
   "cell_type": "code",
   "execution_count": 1,
   "metadata": {
    "collapsed": true
   },
   "outputs": [],
   "source": [
    "import pandas as pd\n",
    "import matplotlib.pyplot as plt\n",
    "%matplotlib inline\n",
    "import requests, zipfile, io # So that we can download and unzip files"
   ]
  },
  {
   "cell_type": "markdown",
   "metadata": {},
   "source": [
    "## Survey of Consumer Finances (SCF) 2013\n",
    "\n",
    "Load and explore data from the SCF website - note that this data cannot be loaded by 2007- Excel due to its size"
   ]
  },
  {
   "cell_type": "code",
   "execution_count": 2,
   "metadata": {
    "collapsed": false
   },
   "outputs": [],
   "source": [
    "r = requests.get('http://www.federalreserve.gov/econresdata/scf/files/scfp2013excel.zip')\n",
    "z = zipfile.ZipFile(io.BytesIO(r.content))\n",
    "f = z.open('SCFP2013.xlsx')\n",
    "table = pd.read_excel(f, sheetname='SCFP2013')"
   ]
  },
  {
   "cell_type": "markdown",
   "metadata": {},
   "source": [
    "Lets have a quick look at the table"
   ]
  },
  {
   "cell_type": "code",
   "execution_count": 3,
   "metadata": {
    "collapsed": false
   },
   "outputs": [
    {
     "data": {
      "text/html": [
       "<div>\n",
       "<table border=\"1\" class=\"dataframe\">\n",
       "  <thead>\n",
       "    <tr style=\"text-align: right;\">\n",
       "      <th></th>\n",
       "      <th>YY1</th>\n",
       "      <th>Y1</th>\n",
       "      <th>WGT</th>\n",
       "      <th>HHSEX</th>\n",
       "      <th>AGE</th>\n",
       "      <th>AGECL</th>\n",
       "      <th>EDUC</th>\n",
       "      <th>EDCL</th>\n",
       "      <th>MARRIED</th>\n",
       "      <th>KIDS</th>\n",
       "      <th>...</th>\n",
       "      <th>LLOAN11</th>\n",
       "      <th>LLOAN12</th>\n",
       "      <th>NWCAT</th>\n",
       "      <th>INCCAT</th>\n",
       "      <th>ASSETCAT</th>\n",
       "      <th>NINCCAT</th>\n",
       "      <th>NINC2CAT</th>\n",
       "      <th>NW10CAT</th>\n",
       "      <th>INC10CAT</th>\n",
       "      <th>NINC10CAT</th>\n",
       "    </tr>\n",
       "  </thead>\n",
       "  <tbody>\n",
       "    <tr>\n",
       "      <th>0</th>\n",
       "      <td>1</td>\n",
       "      <td>11</td>\n",
       "      <td>3100.802441</td>\n",
       "      <td>1</td>\n",
       "      <td>54</td>\n",
       "      <td>3</td>\n",
       "      <td>11</td>\n",
       "      <td>2</td>\n",
       "      <td>2</td>\n",
       "      <td>1</td>\n",
       "      <td>...</td>\n",
       "      <td>0</td>\n",
       "      <td>0</td>\n",
       "      <td>1</td>\n",
       "      <td>1</td>\n",
       "      <td>1</td>\n",
       "      <td>2</td>\n",
       "      <td>1</td>\n",
       "      <td>2</td>\n",
       "      <td>2</td>\n",
       "      <td>4</td>\n",
       "    </tr>\n",
       "    <tr>\n",
       "      <th>1</th>\n",
       "      <td>1</td>\n",
       "      <td>12</td>\n",
       "      <td>3090.352195</td>\n",
       "      <td>1</td>\n",
       "      <td>54</td>\n",
       "      <td>3</td>\n",
       "      <td>11</td>\n",
       "      <td>2</td>\n",
       "      <td>2</td>\n",
       "      <td>1</td>\n",
       "      <td>...</td>\n",
       "      <td>0</td>\n",
       "      <td>0</td>\n",
       "      <td>1</td>\n",
       "      <td>1</td>\n",
       "      <td>1</td>\n",
       "      <td>2</td>\n",
       "      <td>1</td>\n",
       "      <td>2</td>\n",
       "      <td>2</td>\n",
       "      <td>4</td>\n",
       "    </tr>\n",
       "    <tr>\n",
       "      <th>2</th>\n",
       "      <td>1</td>\n",
       "      <td>13</td>\n",
       "      <td>3094.100275</td>\n",
       "      <td>1</td>\n",
       "      <td>54</td>\n",
       "      <td>3</td>\n",
       "      <td>11</td>\n",
       "      <td>2</td>\n",
       "      <td>2</td>\n",
       "      <td>1</td>\n",
       "      <td>...</td>\n",
       "      <td>0</td>\n",
       "      <td>0</td>\n",
       "      <td>1</td>\n",
       "      <td>1</td>\n",
       "      <td>1</td>\n",
       "      <td>2</td>\n",
       "      <td>1</td>\n",
       "      <td>2</td>\n",
       "      <td>2</td>\n",
       "      <td>4</td>\n",
       "    </tr>\n",
       "    <tr>\n",
       "      <th>3</th>\n",
       "      <td>1</td>\n",
       "      <td>14</td>\n",
       "      <td>3098.507516</td>\n",
       "      <td>1</td>\n",
       "      <td>54</td>\n",
       "      <td>3</td>\n",
       "      <td>11</td>\n",
       "      <td>2</td>\n",
       "      <td>2</td>\n",
       "      <td>1</td>\n",
       "      <td>...</td>\n",
       "      <td>0</td>\n",
       "      <td>0</td>\n",
       "      <td>1</td>\n",
       "      <td>1</td>\n",
       "      <td>1</td>\n",
       "      <td>2</td>\n",
       "      <td>1</td>\n",
       "      <td>2</td>\n",
       "      <td>2</td>\n",
       "      <td>4</td>\n",
       "    </tr>\n",
       "    <tr>\n",
       "      <th>4</th>\n",
       "      <td>1</td>\n",
       "      <td>15</td>\n",
       "      <td>3104.670102</td>\n",
       "      <td>1</td>\n",
       "      <td>54</td>\n",
       "      <td>3</td>\n",
       "      <td>11</td>\n",
       "      <td>2</td>\n",
       "      <td>2</td>\n",
       "      <td>1</td>\n",
       "      <td>...</td>\n",
       "      <td>0</td>\n",
       "      <td>0</td>\n",
       "      <td>1</td>\n",
       "      <td>1</td>\n",
       "      <td>1</td>\n",
       "      <td>2</td>\n",
       "      <td>1</td>\n",
       "      <td>2</td>\n",
       "      <td>2</td>\n",
       "      <td>4</td>\n",
       "    </tr>\n",
       "  </tbody>\n",
       "</table>\n",
       "<p>5 rows × 324 columns</p>\n",
       "</div>"
      ],
      "text/plain": [
       "   YY1  Y1          WGT  HHSEX  AGE  AGECL  EDUC  EDCL  MARRIED  KIDS  \\\n",
       "0    1  11  3100.802441      1   54      3    11     2        2     1   \n",
       "1    1  12  3090.352195      1   54      3    11     2        2     1   \n",
       "2    1  13  3094.100275      1   54      3    11     2        2     1   \n",
       "3    1  14  3098.507516      1   54      3    11     2        2     1   \n",
       "4    1  15  3104.670102      1   54      3    11     2        2     1   \n",
       "\n",
       "     ...      LLOAN11  LLOAN12  NWCAT  INCCAT  ASSETCAT  NINCCAT  NINC2CAT  \\\n",
       "0    ...            0        0      1       1         1        2         1   \n",
       "1    ...            0        0      1       1         1        2         1   \n",
       "2    ...            0        0      1       1         1        2         1   \n",
       "3    ...            0        0      1       1         1        2         1   \n",
       "4    ...            0        0      1       1         1        2         1   \n",
       "\n",
       "   NW10CAT  INC10CAT  NINC10CAT  \n",
       "0        2         2          4  \n",
       "1        2         2          4  \n",
       "2        2         2          4  \n",
       "3        2         2          4  \n",
       "4        2         2          4  \n",
       "\n",
       "[5 rows x 324 columns]"
      ]
     },
     "execution_count": 3,
     "metadata": {},
     "output_type": "execute_result"
    }
   ],
   "source": [
    "table.head()"
   ]
  },
  {
   "cell_type": "markdown",
   "metadata": {},
   "source": [
    "We can select particular rows of the table using standard Python array slicing notation"
   ]
  },
  {
   "cell_type": "code",
   "execution_count": 4,
   "metadata": {
    "collapsed": false
   },
   "outputs": [
    {
     "data": {
      "text/html": [
       "<div>\n",
       "<table border=\"1\" class=\"dataframe\">\n",
       "  <thead>\n",
       "    <tr style=\"text-align: right;\">\n",
       "      <th></th>\n",
       "      <th>YY1</th>\n",
       "      <th>Y1</th>\n",
       "      <th>WGT</th>\n",
       "      <th>HHSEX</th>\n",
       "      <th>AGE</th>\n",
       "      <th>AGECL</th>\n",
       "      <th>EDUC</th>\n",
       "      <th>EDCL</th>\n",
       "      <th>MARRIED</th>\n",
       "      <th>KIDS</th>\n",
       "      <th>...</th>\n",
       "      <th>LLOAN11</th>\n",
       "      <th>LLOAN12</th>\n",
       "      <th>NWCAT</th>\n",
       "      <th>INCCAT</th>\n",
       "      <th>ASSETCAT</th>\n",
       "      <th>NINCCAT</th>\n",
       "      <th>NINC2CAT</th>\n",
       "      <th>NW10CAT</th>\n",
       "      <th>INC10CAT</th>\n",
       "      <th>NINC10CAT</th>\n",
       "    </tr>\n",
       "  </thead>\n",
       "  <tbody>\n",
       "    <tr>\n",
       "      <th>0</th>\n",
       "      <td>1</td>\n",
       "      <td>11</td>\n",
       "      <td>3100.802441</td>\n",
       "      <td>1</td>\n",
       "      <td>54</td>\n",
       "      <td>3</td>\n",
       "      <td>11</td>\n",
       "      <td>2</td>\n",
       "      <td>2</td>\n",
       "      <td>1</td>\n",
       "      <td>...</td>\n",
       "      <td>0</td>\n",
       "      <td>0</td>\n",
       "      <td>1</td>\n",
       "      <td>1</td>\n",
       "      <td>1</td>\n",
       "      <td>2</td>\n",
       "      <td>1</td>\n",
       "      <td>2</td>\n",
       "      <td>2</td>\n",
       "      <td>4</td>\n",
       "    </tr>\n",
       "    <tr>\n",
       "      <th>1</th>\n",
       "      <td>1</td>\n",
       "      <td>12</td>\n",
       "      <td>3090.352195</td>\n",
       "      <td>1</td>\n",
       "      <td>54</td>\n",
       "      <td>3</td>\n",
       "      <td>11</td>\n",
       "      <td>2</td>\n",
       "      <td>2</td>\n",
       "      <td>1</td>\n",
       "      <td>...</td>\n",
       "      <td>0</td>\n",
       "      <td>0</td>\n",
       "      <td>1</td>\n",
       "      <td>1</td>\n",
       "      <td>1</td>\n",
       "      <td>2</td>\n",
       "      <td>1</td>\n",
       "      <td>2</td>\n",
       "      <td>2</td>\n",
       "      <td>4</td>\n",
       "    </tr>\n",
       "    <tr>\n",
       "      <th>2</th>\n",
       "      <td>1</td>\n",
       "      <td>13</td>\n",
       "      <td>3094.100275</td>\n",
       "      <td>1</td>\n",
       "      <td>54</td>\n",
       "      <td>3</td>\n",
       "      <td>11</td>\n",
       "      <td>2</td>\n",
       "      <td>2</td>\n",
       "      <td>1</td>\n",
       "      <td>...</td>\n",
       "      <td>0</td>\n",
       "      <td>0</td>\n",
       "      <td>1</td>\n",
       "      <td>1</td>\n",
       "      <td>1</td>\n",
       "      <td>2</td>\n",
       "      <td>1</td>\n",
       "      <td>2</td>\n",
       "      <td>2</td>\n",
       "      <td>4</td>\n",
       "    </tr>\n",
       "    <tr>\n",
       "      <th>3</th>\n",
       "      <td>1</td>\n",
       "      <td>14</td>\n",
       "      <td>3098.507516</td>\n",
       "      <td>1</td>\n",
       "      <td>54</td>\n",
       "      <td>3</td>\n",
       "      <td>11</td>\n",
       "      <td>2</td>\n",
       "      <td>2</td>\n",
       "      <td>1</td>\n",
       "      <td>...</td>\n",
       "      <td>0</td>\n",
       "      <td>0</td>\n",
       "      <td>1</td>\n",
       "      <td>1</td>\n",
       "      <td>1</td>\n",
       "      <td>2</td>\n",
       "      <td>1</td>\n",
       "      <td>2</td>\n",
       "      <td>2</td>\n",
       "      <td>4</td>\n",
       "    </tr>\n",
       "    <tr>\n",
       "      <th>4</th>\n",
       "      <td>1</td>\n",
       "      <td>15</td>\n",
       "      <td>3104.670102</td>\n",
       "      <td>1</td>\n",
       "      <td>54</td>\n",
       "      <td>3</td>\n",
       "      <td>11</td>\n",
       "      <td>2</td>\n",
       "      <td>2</td>\n",
       "      <td>1</td>\n",
       "      <td>...</td>\n",
       "      <td>0</td>\n",
       "      <td>0</td>\n",
       "      <td>1</td>\n",
       "      <td>1</td>\n",
       "      <td>1</td>\n",
       "      <td>2</td>\n",
       "      <td>1</td>\n",
       "      <td>2</td>\n",
       "      <td>2</td>\n",
       "      <td>4</td>\n",
       "    </tr>\n",
       "  </tbody>\n",
       "</table>\n",
       "<p>5 rows × 324 columns</p>\n",
       "</div>"
      ],
      "text/plain": [
       "   YY1  Y1          WGT  HHSEX  AGE  AGECL  EDUC  EDCL  MARRIED  KIDS  \\\n",
       "0    1  11  3100.802441      1   54      3    11     2        2     1   \n",
       "1    1  12  3090.352195      1   54      3    11     2        2     1   \n",
       "2    1  13  3094.100275      1   54      3    11     2        2     1   \n",
       "3    1  14  3098.507516      1   54      3    11     2        2     1   \n",
       "4    1  15  3104.670102      1   54      3    11     2        2     1   \n",
       "\n",
       "     ...      LLOAN11  LLOAN12  NWCAT  INCCAT  ASSETCAT  NINCCAT  NINC2CAT  \\\n",
       "0    ...            0        0      1       1         1        2         1   \n",
       "1    ...            0        0      1       1         1        2         1   \n",
       "2    ...            0        0      1       1         1        2         1   \n",
       "3    ...            0        0      1       1         1        2         1   \n",
       "4    ...            0        0      1       1         1        2         1   \n",
       "\n",
       "   NW10CAT  INC10CAT  NINC10CAT  \n",
       "0        2         2          4  \n",
       "1        2         2          4  \n",
       "2        2         2          4  \n",
       "3        2         2          4  \n",
       "4        2         2          4  \n",
       "\n",
       "[5 rows x 324 columns]"
      ]
     },
     "execution_count": 4,
     "metadata": {},
     "output_type": "execute_result"
    }
   ],
   "source": [
    "table[0:5]"
   ]
  },
  {
   "cell_type": "markdown",
   "metadata": {},
   "source": [
    "table is a DataFrame - a multi-dimensional equivalent of Series (another Pandas object), as it has multiple columns, so you can think of it as a matrix, where columns can be accessed by their 'names'. In fact, many operations can be performed on them (coming from numpy):"
   ]
  },
  {
   "cell_type": "code",
   "execution_count": 5,
   "metadata": {
    "collapsed": false
   },
   "outputs": [
    {
     "data": {
      "text/plain": [
       "1324540600.0"
      ]
     },
     "execution_count": 5,
     "metadata": {},
     "output_type": "execute_result"
    }
   ],
   "source": [
    "table.max().max()"
   ]
  },
  {
   "cell_type": "markdown",
   "metadata": {},
   "source": [
    "But they know more than that - they have several built-in statistics :"
   ]
  },
  {
   "cell_type": "code",
   "execution_count": 6,
   "metadata": {
    "collapsed": false
   },
   "outputs": [
    {
     "data": {
      "text/html": [
       "<div>\n",
       "<table border=\"1\" class=\"dataframe\">\n",
       "  <thead>\n",
       "    <tr style=\"text-align: right;\">\n",
       "      <th></th>\n",
       "      <th>YY1</th>\n",
       "      <th>Y1</th>\n",
       "      <th>WGT</th>\n",
       "      <th>HHSEX</th>\n",
       "      <th>AGE</th>\n",
       "      <th>AGECL</th>\n",
       "      <th>EDUC</th>\n",
       "      <th>EDCL</th>\n",
       "      <th>MARRIED</th>\n",
       "      <th>KIDS</th>\n",
       "      <th>...</th>\n",
       "      <th>LLOAN11</th>\n",
       "      <th>LLOAN12</th>\n",
       "      <th>NWCAT</th>\n",
       "      <th>INCCAT</th>\n",
       "      <th>ASSETCAT</th>\n",
       "      <th>NINCCAT</th>\n",
       "      <th>NINC2CAT</th>\n",
       "      <th>NW10CAT</th>\n",
       "      <th>INC10CAT</th>\n",
       "      <th>NINC10CAT</th>\n",
       "    </tr>\n",
       "  </thead>\n",
       "  <tbody>\n",
       "    <tr>\n",
       "      <th>count</th>\n",
       "      <td>30075.000000</td>\n",
       "      <td>30075.000000</td>\n",
       "      <td>30075.000000</td>\n",
       "      <td>30075.000000</td>\n",
       "      <td>30075.000000</td>\n",
       "      <td>30075.000000</td>\n",
       "      <td>30075.000000</td>\n",
       "      <td>30075.000000</td>\n",
       "      <td>30075.000000</td>\n",
       "      <td>30075.000000</td>\n",
       "      <td>...</td>\n",
       "      <td>30075.000000</td>\n",
       "      <td>30075.000000</td>\n",
       "      <td>30075.000000</td>\n",
       "      <td>30075.000000</td>\n",
       "      <td>30075.000000</td>\n",
       "      <td>30075.000000</td>\n",
       "      <td>30075.000000</td>\n",
       "      <td>30075.000000</td>\n",
       "      <td>30075.000000</td>\n",
       "      <td>30075.000000</td>\n",
       "    </tr>\n",
       "    <tr>\n",
       "      <th>mean</th>\n",
       "      <td>3013.273317</td>\n",
       "      <td>30135.733167</td>\n",
       "      <td>4074.150302</td>\n",
       "      <td>1.236575</td>\n",
       "      <td>51.753283</td>\n",
       "      <td>3.232253</td>\n",
       "      <td>13.963591</td>\n",
       "      <td>3.025403</td>\n",
       "      <td>1.373400</td>\n",
       "      <td>0.840067</td>\n",
       "      <td>...</td>\n",
       "      <td>539.636908</td>\n",
       "      <td>4231.891604</td>\n",
       "      <td>2.996143</td>\n",
       "      <td>3.574763</td>\n",
       "      <td>3.572835</td>\n",
       "      <td>3.597905</td>\n",
       "      <td>1.832086</td>\n",
       "      <td>6.229061</td>\n",
       "      <td>6.250208</td>\n",
       "      <td>6.291837</td>\n",
       "    </tr>\n",
       "    <tr>\n",
       "      <th>std</th>\n",
       "      <td>1739.205187</td>\n",
       "      <td>17392.051924</td>\n",
       "      <td>2199.735338</td>\n",
       "      <td>0.424986</td>\n",
       "      <td>16.170621</td>\n",
       "      <td>1.532090</td>\n",
       "      <td>2.699456</td>\n",
       "      <td>1.048733</td>\n",
       "      <td>0.483715</td>\n",
       "      <td>1.174573</td>\n",
       "      <td>...</td>\n",
       "      <td>12572.614911</td>\n",
       "      <td>124661.121441</td>\n",
       "      <td>1.493547</td>\n",
       "      <td>1.781943</td>\n",
       "      <td>1.840313</td>\n",
       "      <td>1.776878</td>\n",
       "      <td>0.784993</td>\n",
       "      <td>3.170065</td>\n",
       "      <td>3.096357</td>\n",
       "      <td>3.081563</td>\n",
       "    </tr>\n",
       "    <tr>\n",
       "      <th>min</th>\n",
       "      <td>1.000000</td>\n",
       "      <td>11.000000</td>\n",
       "      <td>1.620062</td>\n",
       "      <td>1.000000</td>\n",
       "      <td>18.000000</td>\n",
       "      <td>1.000000</td>\n",
       "      <td>-1.000000</td>\n",
       "      <td>1.000000</td>\n",
       "      <td>1.000000</td>\n",
       "      <td>0.000000</td>\n",
       "      <td>...</td>\n",
       "      <td>0.000000</td>\n",
       "      <td>0.000000</td>\n",
       "      <td>1.000000</td>\n",
       "      <td>1.000000</td>\n",
       "      <td>1.000000</td>\n",
       "      <td>1.000000</td>\n",
       "      <td>1.000000</td>\n",
       "      <td>1.000000</td>\n",
       "      <td>1.000000</td>\n",
       "      <td>1.000000</td>\n",
       "    </tr>\n",
       "    <tr>\n",
       "      <th>25%</th>\n",
       "      <td>1508.000000</td>\n",
       "      <td>15084.500000</td>\n",
       "      <td>3037.739309</td>\n",
       "      <td>1.000000</td>\n",
       "      <td>39.000000</td>\n",
       "      <td>2.000000</td>\n",
       "      <td>12.000000</td>\n",
       "      <td>2.000000</td>\n",
       "      <td>1.000000</td>\n",
       "      <td>0.000000</td>\n",
       "      <td>...</td>\n",
       "      <td>0.000000</td>\n",
       "      <td>0.000000</td>\n",
       "      <td>2.000000</td>\n",
       "      <td>2.000000</td>\n",
       "      <td>2.000000</td>\n",
       "      <td>2.000000</td>\n",
       "      <td>1.000000</td>\n",
       "      <td>3.000000</td>\n",
       "      <td>4.000000</td>\n",
       "      <td>4.000000</td>\n",
       "    </tr>\n",
       "    <tr>\n",
       "      <th>50%</th>\n",
       "      <td>3013.000000</td>\n",
       "      <td>30133.000000</td>\n",
       "      <td>4303.426803</td>\n",
       "      <td>1.000000</td>\n",
       "      <td>52.000000</td>\n",
       "      <td>3.000000</td>\n",
       "      <td>14.000000</td>\n",
       "      <td>3.000000</td>\n",
       "      <td>1.000000</td>\n",
       "      <td>0.000000</td>\n",
       "      <td>...</td>\n",
       "      <td>0.000000</td>\n",
       "      <td>0.000000</td>\n",
       "      <td>3.000000</td>\n",
       "      <td>4.000000</td>\n",
       "      <td>4.000000</td>\n",
       "      <td>4.000000</td>\n",
       "      <td>2.000000</td>\n",
       "      <td>7.000000</td>\n",
       "      <td>7.000000</td>\n",
       "      <td>7.000000</td>\n",
       "    </tr>\n",
       "    <tr>\n",
       "      <th>75%</th>\n",
       "      <td>4519.000000</td>\n",
       "      <td>45191.500000</td>\n",
       "      <td>5469.228758</td>\n",
       "      <td>1.000000</td>\n",
       "      <td>63.000000</td>\n",
       "      <td>4.000000</td>\n",
       "      <td>16.000000</td>\n",
       "      <td>4.000000</td>\n",
       "      <td>2.000000</td>\n",
       "      <td>2.000000</td>\n",
       "      <td>...</td>\n",
       "      <td>0.000000</td>\n",
       "      <td>0.000000</td>\n",
       "      <td>5.000000</td>\n",
       "      <td>5.000000</td>\n",
       "      <td>6.000000</td>\n",
       "      <td>5.000000</td>\n",
       "      <td>2.000000</td>\n",
       "      <td>10.000000</td>\n",
       "      <td>9.000000</td>\n",
       "      <td>9.000000</td>\n",
       "    </tr>\n",
       "    <tr>\n",
       "      <th>max</th>\n",
       "      <td>6026.000000</td>\n",
       "      <td>60265.000000</td>\n",
       "      <td>10617.366341</td>\n",
       "      <td>2.000000</td>\n",
       "      <td>95.000000</td>\n",
       "      <td>6.000000</td>\n",
       "      <td>17.000000</td>\n",
       "      <td>4.000000</td>\n",
       "      <td>2.000000</td>\n",
       "      <td>8.000000</td>\n",
       "      <td>...</td>\n",
       "      <td>720000.000000</td>\n",
       "      <td>8000000.000000</td>\n",
       "      <td>5.000000</td>\n",
       "      <td>6.000000</td>\n",
       "      <td>6.000000</td>\n",
       "      <td>6.000000</td>\n",
       "      <td>3.000000</td>\n",
       "      <td>10.000000</td>\n",
       "      <td>10.000000</td>\n",
       "      <td>10.000000</td>\n",
       "    </tr>\n",
       "  </tbody>\n",
       "</table>\n",
       "<p>8 rows × 324 columns</p>\n",
       "</div>"
      ],
      "text/plain": [
       "                YY1            Y1           WGT         HHSEX           AGE  \\\n",
       "count  30075.000000  30075.000000  30075.000000  30075.000000  30075.000000   \n",
       "mean    3013.273317  30135.733167   4074.150302      1.236575     51.753283   \n",
       "std     1739.205187  17392.051924   2199.735338      0.424986     16.170621   \n",
       "min        1.000000     11.000000      1.620062      1.000000     18.000000   \n",
       "25%     1508.000000  15084.500000   3037.739309      1.000000     39.000000   \n",
       "50%     3013.000000  30133.000000   4303.426803      1.000000     52.000000   \n",
       "75%     4519.000000  45191.500000   5469.228758      1.000000     63.000000   \n",
       "max     6026.000000  60265.000000  10617.366341      2.000000     95.000000   \n",
       "\n",
       "              AGECL          EDUC          EDCL       MARRIED          KIDS  \\\n",
       "count  30075.000000  30075.000000  30075.000000  30075.000000  30075.000000   \n",
       "mean       3.232253     13.963591      3.025403      1.373400      0.840067   \n",
       "std        1.532090      2.699456      1.048733      0.483715      1.174573   \n",
       "min        1.000000     -1.000000      1.000000      1.000000      0.000000   \n",
       "25%        2.000000     12.000000      2.000000      1.000000      0.000000   \n",
       "50%        3.000000     14.000000      3.000000      1.000000      0.000000   \n",
       "75%        4.000000     16.000000      4.000000      2.000000      2.000000   \n",
       "max        6.000000     17.000000      4.000000      2.000000      8.000000   \n",
       "\n",
       "           ...             LLOAN11         LLOAN12         NWCAT  \\\n",
       "count      ...        30075.000000    30075.000000  30075.000000   \n",
       "mean       ...          539.636908     4231.891604      2.996143   \n",
       "std        ...        12572.614911   124661.121441      1.493547   \n",
       "min        ...            0.000000        0.000000      1.000000   \n",
       "25%        ...            0.000000        0.000000      2.000000   \n",
       "50%        ...            0.000000        0.000000      3.000000   \n",
       "75%        ...            0.000000        0.000000      5.000000   \n",
       "max        ...       720000.000000  8000000.000000      5.000000   \n",
       "\n",
       "             INCCAT      ASSETCAT       NINCCAT      NINC2CAT       NW10CAT  \\\n",
       "count  30075.000000  30075.000000  30075.000000  30075.000000  30075.000000   \n",
       "mean       3.574763      3.572835      3.597905      1.832086      6.229061   \n",
       "std        1.781943      1.840313      1.776878      0.784993      3.170065   \n",
       "min        1.000000      1.000000      1.000000      1.000000      1.000000   \n",
       "25%        2.000000      2.000000      2.000000      1.000000      3.000000   \n",
       "50%        4.000000      4.000000      4.000000      2.000000      7.000000   \n",
       "75%        5.000000      6.000000      5.000000      2.000000     10.000000   \n",
       "max        6.000000      6.000000      6.000000      3.000000     10.000000   \n",
       "\n",
       "           INC10CAT     NINC10CAT  \n",
       "count  30075.000000  30075.000000  \n",
       "mean       6.250208      6.291837  \n",
       "std        3.096357      3.081563  \n",
       "min        1.000000      1.000000  \n",
       "25%        4.000000      4.000000  \n",
       "50%        7.000000      7.000000  \n",
       "75%        9.000000      9.000000  \n",
       "max       10.000000     10.000000  \n",
       "\n",
       "[8 rows x 324 columns]"
      ]
     },
     "execution_count": 6,
     "metadata": {},
     "output_type": "execute_result"
    }
   ],
   "source": [
    "table.describe()"
   ]
  },
  {
   "cell_type": "markdown",
   "metadata": {},
   "source": [
    "As an example try to access normalized income and net-worth variables."
   ]
  },
  {
   "cell_type": "code",
   "execution_count": 7,
   "metadata": {
    "collapsed": false
   },
   "outputs": [
    {
     "data": {
      "text/plain": [
       "(324,)"
      ]
     },
     "execution_count": 7,
     "metadata": {},
     "output_type": "execute_result"
    }
   ],
   "source": [
    "table.dtypes[0:5]\n",
    "table.dtypes.shape"
   ]
  },
  {
   "cell_type": "markdown",
   "metadata": {},
   "source": [
    "There are way too many variables in there - try to search for the proper column names"
   ]
  },
  {
   "cell_type": "code",
   "execution_count": 8,
   "metadata": {
    "collapsed": false
   },
   "outputs": [
    {
     "data": {
      "text/plain": [
       "['NETWORTH']"
      ]
     },
     "execution_count": 8,
     "metadata": {},
     "output_type": "execute_result"
    }
   ],
   "source": [
    "[col for col in table.columns if 'NETWOR'  in col]"
   ]
  },
  {
   "cell_type": "code",
   "execution_count": 9,
   "metadata": {
    "collapsed": false
   },
   "outputs": [
    {
     "data": {
      "text/plain": [
       "['INCOME',\n",
       " 'WAGEINC',\n",
       " 'BUSSEFARMINC',\n",
       " 'INTDIVINC',\n",
       " 'KGINC',\n",
       " 'SSRETINC',\n",
       " 'TRANSFOTHINC',\n",
       " 'NORMINC',\n",
       " 'EQUITINC',\n",
       " 'DEBT2INC',\n",
       " 'INCCAT',\n",
       " 'NINCCAT',\n",
       " 'NINC2CAT',\n",
       " 'INC10CAT',\n",
       " 'NINC10CAT']"
      ]
     },
     "execution_count": 9,
     "metadata": {},
     "output_type": "execute_result"
    }
   ],
   "source": [
    "[col for col in table.columns if 'INC'  in col]"
   ]
  },
  {
   "cell_type": "code",
   "execution_count": 10,
   "metadata": {
    "collapsed": false
   },
   "outputs": [],
   "source": [
    "income = table['NORMINC']\n",
    "net_worth = table['NETWORTH']"
   ]
  },
  {
   "cell_type": "markdown",
   "metadata": {},
   "source": [
    "Get the \"mean\" (non -weighted) income and minimal net worth"
   ]
  },
  {
   "cell_type": "code",
   "execution_count": 11,
   "metadata": {
    "collapsed": false,
    "scrolled": true
   },
   "outputs": [
    {
     "data": {
      "text/plain": [
       "713563.8921620903"
      ]
     },
     "execution_count": 11,
     "metadata": {},
     "output_type": "execute_result"
    }
   ],
   "source": [
    "income.mean()"
   ]
  },
  {
   "cell_type": "code",
   "execution_count": 12,
   "metadata": {
    "collapsed": false
   },
   "outputs": [
    {
     "data": {
      "text/plain": [
       "-227019000.0"
      ]
     },
     "execution_count": 12,
     "metadata": {},
     "output_type": "execute_result"
    }
   ],
   "source": [
    "net_worth.min()"
   ]
  },
  {
   "cell_type": "markdown",
   "metadata": {},
   "source": [
    "That is, there is one person with a net worth of -227 million \\$ ! Suppose we do not want our analysis to depend on these extremely low values and we would like to trim our dataframe. As a first step, create a new dataframe that only contains the variables of interest (and the id of each observation)"
   ]
  },
  {
   "cell_type": "code",
   "execution_count": 13,
   "metadata": {
    "collapsed": false
   },
   "outputs": [],
   "source": [
    "keep = ['YY1','Y1', 'NORMINC', 'NETWORTH']"
   ]
  },
  {
   "cell_type": "code",
   "execution_count": 14,
   "metadata": {
    "collapsed": false
   },
   "outputs": [],
   "source": [
    "data = table[keep]"
   ]
  },
  {
   "cell_type": "code",
   "execution_count": 15,
   "metadata": {
    "collapsed": false
   },
   "outputs": [
    {
     "data": {
      "text/html": [
       "<div>\n",
       "<table border=\"1\" class=\"dataframe\">\n",
       "  <thead>\n",
       "    <tr style=\"text-align: right;\">\n",
       "      <th></th>\n",
       "      <th>YY1</th>\n",
       "      <th>Y1</th>\n",
       "      <th>NORMINC</th>\n",
       "      <th>NETWORTH</th>\n",
       "    </tr>\n",
       "  </thead>\n",
       "  <tbody>\n",
       "    <tr>\n",
       "      <th>0</th>\n",
       "      <td>1</td>\n",
       "      <td>11</td>\n",
       "      <td>37537.663108</td>\n",
       "      <td>-400</td>\n",
       "    </tr>\n",
       "    <tr>\n",
       "      <th>1</th>\n",
       "      <td>1</td>\n",
       "      <td>12</td>\n",
       "      <td>39566.725979</td>\n",
       "      <td>-400</td>\n",
       "    </tr>\n",
       "    <tr>\n",
       "      <th>2</th>\n",
       "      <td>1</td>\n",
       "      <td>13</td>\n",
       "      <td>35508.600237</td>\n",
       "      <td>-400</td>\n",
       "    </tr>\n",
       "    <tr>\n",
       "      <th>3</th>\n",
       "      <td>1</td>\n",
       "      <td>14</td>\n",
       "      <td>38552.194543</td>\n",
       "      <td>-400</td>\n",
       "    </tr>\n",
       "    <tr>\n",
       "      <th>4</th>\n",
       "      <td>1</td>\n",
       "      <td>15</td>\n",
       "      <td>35508.600237</td>\n",
       "      <td>-400</td>\n",
       "    </tr>\n",
       "  </tbody>\n",
       "</table>\n",
       "</div>"
      ],
      "text/plain": [
       "   YY1  Y1       NORMINC  NETWORTH\n",
       "0    1  11  37537.663108      -400\n",
       "1    1  12  39566.725979      -400\n",
       "2    1  13  35508.600237      -400\n",
       "3    1  14  38552.194543      -400\n",
       "4    1  15  35508.600237      -400"
      ]
     },
     "execution_count": 15,
     "metadata": {},
     "output_type": "execute_result"
    }
   ],
   "source": [
    "data.head()"
   ]
  },
  {
   "cell_type": "markdown",
   "metadata": {},
   "source": [
    "Rename the columns:"
   ]
  },
  {
   "cell_type": "code",
   "execution_count": 16,
   "metadata": {
    "collapsed": false
   },
   "outputs": [],
   "source": [
    "data.columns ='Household', 'Observation' , 'Income', 'Net Worth'"
   ]
  },
  {
   "cell_type": "code",
   "execution_count": 17,
   "metadata": {
    "collapsed": false
   },
   "outputs": [
    {
     "data": {
      "text/html": [
       "<div>\n",
       "<table border=\"1\" class=\"dataframe\">\n",
       "  <thead>\n",
       "    <tr style=\"text-align: right;\">\n",
       "      <th></th>\n",
       "      <th>Household</th>\n",
       "      <th>Observation</th>\n",
       "      <th>Income</th>\n",
       "      <th>Net Worth</th>\n",
       "    </tr>\n",
       "  </thead>\n",
       "  <tbody>\n",
       "    <tr>\n",
       "      <th>0</th>\n",
       "      <td>1</td>\n",
       "      <td>11</td>\n",
       "      <td>37537.663108</td>\n",
       "      <td>-400</td>\n",
       "    </tr>\n",
       "    <tr>\n",
       "      <th>1</th>\n",
       "      <td>1</td>\n",
       "      <td>12</td>\n",
       "      <td>39566.725979</td>\n",
       "      <td>-400</td>\n",
       "    </tr>\n",
       "    <tr>\n",
       "      <th>2</th>\n",
       "      <td>1</td>\n",
       "      <td>13</td>\n",
       "      <td>35508.600237</td>\n",
       "      <td>-400</td>\n",
       "    </tr>\n",
       "    <tr>\n",
       "      <th>3</th>\n",
       "      <td>1</td>\n",
       "      <td>14</td>\n",
       "      <td>38552.194543</td>\n",
       "      <td>-400</td>\n",
       "    </tr>\n",
       "    <tr>\n",
       "      <th>4</th>\n",
       "      <td>1</td>\n",
       "      <td>15</td>\n",
       "      <td>35508.600237</td>\n",
       "      <td>-400</td>\n",
       "    </tr>\n",
       "  </tbody>\n",
       "</table>\n",
       "</div>"
      ],
      "text/plain": [
       "   Household  Observation        Income  Net Worth\n",
       "0          1           11  37537.663108       -400\n",
       "1          1           12  39566.725979       -400\n",
       "2          1           13  35508.600237       -400\n",
       "3          1           14  38552.194543       -400\n",
       "4          1           15  35508.600237       -400"
      ]
     },
     "execution_count": 17,
     "metadata": {},
     "output_type": "execute_result"
    }
   ],
   "source": [
    "data.head()"
   ]
  },
  {
   "cell_type": "markdown",
   "metadata": {},
   "source": [
    "Try to get a general picture of what would be a \"good\" trimming value of net worth by plotting an estimated kernel density "
   ]
  },
  {
   "cell_type": "code",
   "execution_count": 18,
   "metadata": {
    "collapsed": false
   },
   "outputs": [
    {
     "data": {
      "image/png": "[encoded data removed]",
      "text/plain": [
       "<matplotlib.figure.Figure at 0x234e1320>"
      ]
     },
     "metadata": {},
     "output_type": "display_data"
    }
   ],
   "source": [
    "data['Net Worth'].plot(kind='density')\n",
    "plt.show()"
   ]
  },
  {
   "cell_type": "markdown",
   "metadata": {},
   "source": [
    "Let's see how many observations we eliminate if we exclude everyone below -1 million \\$"
   ]
  },
  {
   "cell_type": "code",
   "execution_count": 19,
   "metadata": {
    "collapsed": false
   },
   "outputs": [],
   "source": [
    "data_trimmed = data[data['Net Worth'] > -1000000]"
   ]
  },
  {
   "cell_type": "code",
   "execution_count": 20,
   "metadata": {
    "collapsed": false
   },
   "outputs": [
    {
     "data": {
      "text/plain": [
       "15"
      ]
     },
     "execution_count": 20,
     "metadata": {},
     "output_type": "execute_result"
    }
   ],
   "source": [
    "data.shape[0] - data_trimmed.shape[0] "
   ]
  },
  {
   "cell_type": "markdown",
   "metadata": {},
   "source": [
    "But how many households are in this category?"
   ]
  },
  {
   "cell_type": "code",
   "execution_count": 21,
   "metadata": {
    "collapsed": false
   },
   "outputs": [
    {
     "data": {
      "text/html": [
       "<div>\n",
       "<table border=\"1\" class=\"dataframe\">\n",
       "  <thead>\n",
       "    <tr style=\"text-align: right;\">\n",
       "      <th></th>\n",
       "      <th>Household</th>\n",
       "      <th>Observation</th>\n",
       "      <th>Income</th>\n",
       "      <th>Net Worth</th>\n",
       "    </tr>\n",
       "  </thead>\n",
       "  <tbody>\n",
       "    <tr>\n",
       "      <th>2770</th>\n",
       "      <td>555</td>\n",
       "      <td>5551</td>\n",
       "      <td>56813.760380</td>\n",
       "      <td>-1692510</td>\n",
       "    </tr>\n",
       "    <tr>\n",
       "      <th>2771</th>\n",
       "      <td>555</td>\n",
       "      <td>5552</td>\n",
       "      <td>54784.697509</td>\n",
       "      <td>-1760510</td>\n",
       "    </tr>\n",
       "    <tr>\n",
       "      <th>2772</th>\n",
       "      <td>555</td>\n",
       "      <td>5553</td>\n",
       "      <td>53770.166074</td>\n",
       "      <td>-1673500</td>\n",
       "    </tr>\n",
       "    <tr>\n",
       "      <th>2773</th>\n",
       "      <td>555</td>\n",
       "      <td>5554</td>\n",
       "      <td>49712.040332</td>\n",
       "      <td>-1464610</td>\n",
       "    </tr>\n",
       "    <tr>\n",
       "      <th>2774</th>\n",
       "      <td>555</td>\n",
       "      <td>5555</td>\n",
       "      <td>49712.040332</td>\n",
       "      <td>-1962990</td>\n",
       "    </tr>\n",
       "    <tr>\n",
       "      <th>14230</th>\n",
       "      <td>2852</td>\n",
       "      <td>28521</td>\n",
       "      <td>0.000000</td>\n",
       "      <td>-215289000</td>\n",
       "    </tr>\n",
       "    <tr>\n",
       "      <th>14231</th>\n",
       "      <td>2852</td>\n",
       "      <td>28522</td>\n",
       "      <td>0.000000</td>\n",
       "      <td>-220820200</td>\n",
       "    </tr>\n",
       "    <tr>\n",
       "      <th>14232</th>\n",
       "      <td>2852</td>\n",
       "      <td>28523</td>\n",
       "      <td>0.000000</td>\n",
       "      <td>-227019000</td>\n",
       "    </tr>\n",
       "    <tr>\n",
       "      <th>14233</th>\n",
       "      <td>2852</td>\n",
       "      <td>28524</td>\n",
       "      <td>0.000000</td>\n",
       "      <td>-226697000</td>\n",
       "    </tr>\n",
       "    <tr>\n",
       "      <th>14234</th>\n",
       "      <td>2852</td>\n",
       "      <td>28525</td>\n",
       "      <td>0.000000</td>\n",
       "      <td>-216780000</td>\n",
       "    </tr>\n",
       "    <tr>\n",
       "      <th>18785</th>\n",
       "      <td>3764</td>\n",
       "      <td>37641</td>\n",
       "      <td>0.000000</td>\n",
       "      <td>-2037500</td>\n",
       "    </tr>\n",
       "    <tr>\n",
       "      <th>18786</th>\n",
       "      <td>3764</td>\n",
       "      <td>37642</td>\n",
       "      <td>0.000000</td>\n",
       "      <td>-1390100</td>\n",
       "    </tr>\n",
       "    <tr>\n",
       "      <th>18787</th>\n",
       "      <td>3764</td>\n",
       "      <td>37643</td>\n",
       "      <td>0.000000</td>\n",
       "      <td>-2130900</td>\n",
       "    </tr>\n",
       "    <tr>\n",
       "      <th>18788</th>\n",
       "      <td>3764</td>\n",
       "      <td>37644</td>\n",
       "      <td>0.000000</td>\n",
       "      <td>-1293000</td>\n",
       "    </tr>\n",
       "    <tr>\n",
       "      <th>18789</th>\n",
       "      <td>3764</td>\n",
       "      <td>37645</td>\n",
       "      <td>0.000000</td>\n",
       "      <td>-1521200</td>\n",
       "    </tr>\n",
       "  </tbody>\n",
       "</table>\n",
       "</div>"
      ],
      "text/plain": [
       "       Household  Observation        Income  Net Worth\n",
       "2770         555         5551  56813.760380   -1692510\n",
       "2771         555         5552  54784.697509   -1760510\n",
       "2772         555         5553  53770.166074   -1673500\n",
       "2773         555         5554  49712.040332   -1464610\n",
       "2774         555         5555  49712.040332   -1962990\n",
       "14230       2852        28521      0.000000 -215289000\n",
       "14231       2852        28522      0.000000 -220820200\n",
       "14232       2852        28523      0.000000 -227019000\n",
       "14233       2852        28524      0.000000 -226697000\n",
       "14234       2852        28525      0.000000 -216780000\n",
       "18785       3764        37641      0.000000   -2037500\n",
       "18786       3764        37642      0.000000   -1390100\n",
       "18787       3764        37643      0.000000   -2130900\n",
       "18788       3764        37644      0.000000   -1293000\n",
       "18789       3764        37645      0.000000   -1521200"
      ]
     },
     "execution_count": 21,
     "metadata": {},
     "output_type": "execute_result"
    }
   ],
   "source": [
    "data[data['Net Worth'] < -1000000]"
   ]
  },
  {
   "cell_type": "code",
   "execution_count": 22,
   "metadata": {
    "collapsed": false
   },
   "outputs": [
    {
     "data": {
      "image/png": "[encoded data removed]",
      "text/plain": [
       "<matplotlib.figure.Figure at 0x156fc9b0>"
      ]
     },
     "metadata": {},
     "output_type": "display_data"
    }
   ],
   "source": [
    "data_trimmed['Net Worth'].plot(kind='density')\n",
    "plt.show()"
   ]
  },
  {
   "cell_type": "markdown",
   "metadata": {
    "collapsed": true
   },
   "source": [
    "## Pivoting\n",
    "\n",
    "Note that the data has a nice panel structure which we so far did not exploit - each household has multiple observations. Lets use pivoting so that our dataframe reflects that. First get the index of our dataframe: "
   ]
  },
  {
   "cell_type": "code",
   "execution_count": 23,
   "metadata": {
    "collapsed": false
   },
   "outputs": [
    {
     "data": {
      "text/plain": [
       "Int64Index([    0,     1,     2,     3,     4,     5,     6,     7,     8,\n",
       "                9,\n",
       "            ...\n",
       "            30065, 30066, 30067, 30068, 30069, 30070, 30071, 30072, 30073,\n",
       "            30074],\n",
       "           dtype='int64', length=30075)"
      ]
     },
     "execution_count": 23,
     "metadata": {},
     "output_type": "execute_result"
    }
   ],
   "source": [
    "data.index"
   ]
  },
  {
   "cell_type": "markdown",
   "metadata": {},
   "source": [
    "We simply have the index of each observation. As a first step, replace these indeces by the household identifier and group income levels in each observation:"
   ]
  },
  {
   "cell_type": "code",
   "execution_count": 24,
   "metadata": {
    "collapsed": false
   },
   "outputs": [
    {
     "name": "stderr",
     "output_type": "stream",
     "text": [
      "D:\\Programs\\Anaconda\\lib\\site-packages\\pandas\\core\\indexing.py:426: SettingWithCopyWarning: \n",
      "A value is trying to be set on a copy of a slice from a DataFrame.\n",
      "Try using .loc[row_indexer,col_indexer] = value instead\n",
      "\n",
      "See the caveats in the documentation: http://pandas.pydata.org/pandas-docs/stable/indexing.html#indexing-view-versus-copy\n",
      "  self.obj[item] = s\n"
     ]
    },
    {
     "data": {
      "text/html": [
       "<div>\n",
       "<table border=\"1\" class=\"dataframe\">\n",
       "  <thead>\n",
       "    <tr style=\"text-align: right;\">\n",
       "      <th></th>\n",
       "      <th>Household</th>\n",
       "      <th>Observation</th>\n",
       "      <th>Income</th>\n",
       "      <th>Net Worth</th>\n",
       "    </tr>\n",
       "  </thead>\n",
       "  <tbody>\n",
       "    <tr>\n",
       "      <th>0</th>\n",
       "      <td>1</td>\n",
       "      <td>1</td>\n",
       "      <td>37537.663108</td>\n",
       "      <td>-400</td>\n",
       "    </tr>\n",
       "    <tr>\n",
       "      <th>1</th>\n",
       "      <td>1</td>\n",
       "      <td>2</td>\n",
       "      <td>39566.725979</td>\n",
       "      <td>-400</td>\n",
       "    </tr>\n",
       "    <tr>\n",
       "      <th>2</th>\n",
       "      <td>1</td>\n",
       "      <td>3</td>\n",
       "      <td>35508.600237</td>\n",
       "      <td>-400</td>\n",
       "    </tr>\n",
       "    <tr>\n",
       "      <th>3</th>\n",
       "      <td>1</td>\n",
       "      <td>4</td>\n",
       "      <td>38552.194543</td>\n",
       "      <td>-400</td>\n",
       "    </tr>\n",
       "    <tr>\n",
       "      <th>4</th>\n",
       "      <td>1</td>\n",
       "      <td>5</td>\n",
       "      <td>35508.600237</td>\n",
       "      <td>-400</td>\n",
       "    </tr>\n",
       "    <tr>\n",
       "      <th>5</th>\n",
       "      <td>2</td>\n",
       "      <td>1</td>\n",
       "      <td>22319.691578</td>\n",
       "      <td>-8700</td>\n",
       "    </tr>\n",
       "    <tr>\n",
       "      <th>6</th>\n",
       "      <td>2</td>\n",
       "      <td>2</td>\n",
       "      <td>22319.691578</td>\n",
       "      <td>-8600</td>\n",
       "    </tr>\n",
       "    <tr>\n",
       "      <th>7</th>\n",
       "      <td>2</td>\n",
       "      <td>3</td>\n",
       "      <td>22319.691578</td>\n",
       "      <td>-8700</td>\n",
       "    </tr>\n",
       "    <tr>\n",
       "      <th>8</th>\n",
       "      <td>2</td>\n",
       "      <td>4</td>\n",
       "      <td>22319.691578</td>\n",
       "      <td>-8600</td>\n",
       "    </tr>\n",
       "    <tr>\n",
       "      <th>9</th>\n",
       "      <td>2</td>\n",
       "      <td>5</td>\n",
       "      <td>22319.691578</td>\n",
       "      <td>-8600</td>\n",
       "    </tr>\n",
       "  </tbody>\n",
       "</table>\n",
       "</div>"
      ],
      "text/plain": [
       "   Household  Observation        Income  Net Worth\n",
       "0          1            1  37537.663108       -400\n",
       "1          1            2  39566.725979       -400\n",
       "2          1            3  35508.600237       -400\n",
       "3          1            4  38552.194543       -400\n",
       "4          1            5  35508.600237       -400\n",
       "5          2            1  22319.691578      -8700\n",
       "6          2            2  22319.691578      -8600\n",
       "7          2            3  22319.691578      -8700\n",
       "8          2            4  22319.691578      -8600\n",
       "9          2            5  22319.691578      -8600"
      ]
     },
     "execution_count": 24,
     "metadata": {},
     "output_type": "execute_result"
    }
   ],
   "source": [
    "new_observations = data.loc[:,'Observation'] - 10 * data.loc[:,'Household']\n",
    "data.loc[:,'Observation'] = new_observations\n",
    "data[0:10]\n",
    "# Normally, you should not do this - instead use assign"
   ]
  },
  {
   "cell_type": "code",
   "execution_count": 25,
   "metadata": {
    "collapsed": true
   },
   "outputs": [],
   "source": [
    "# Reload the data\n",
    "data = table[keep]\n",
    "data.columns ='Household', 'Observation' , 'Income', 'Net Worth'"
   ]
  },
  {
   "cell_type": "code",
   "execution_count": 26,
   "metadata": {
    "collapsed": false
   },
   "outputs": [
    {
     "data": {
      "text/html": [
       "<div>\n",
       "<table border=\"1\" class=\"dataframe\">\n",
       "  <thead>\n",
       "    <tr style=\"text-align: right;\">\n",
       "      <th></th>\n",
       "      <th>Household</th>\n",
       "      <th>Observation</th>\n",
       "      <th>Income</th>\n",
       "      <th>Net Worth</th>\n",
       "    </tr>\n",
       "  </thead>\n",
       "  <tbody>\n",
       "    <tr>\n",
       "      <th>0</th>\n",
       "      <td>1</td>\n",
       "      <td>1</td>\n",
       "      <td>37537.663108</td>\n",
       "      <td>-400</td>\n",
       "    </tr>\n",
       "    <tr>\n",
       "      <th>1</th>\n",
       "      <td>1</td>\n",
       "      <td>2</td>\n",
       "      <td>39566.725979</td>\n",
       "      <td>-400</td>\n",
       "    </tr>\n",
       "    <tr>\n",
       "      <th>2</th>\n",
       "      <td>1</td>\n",
       "      <td>3</td>\n",
       "      <td>35508.600237</td>\n",
       "      <td>-400</td>\n",
       "    </tr>\n",
       "    <tr>\n",
       "      <th>3</th>\n",
       "      <td>1</td>\n",
       "      <td>4</td>\n",
       "      <td>38552.194543</td>\n",
       "      <td>-400</td>\n",
       "    </tr>\n",
       "    <tr>\n",
       "      <th>4</th>\n",
       "      <td>1</td>\n",
       "      <td>5</td>\n",
       "      <td>35508.600237</td>\n",
       "      <td>-400</td>\n",
       "    </tr>\n",
       "  </tbody>\n",
       "</table>\n",
       "</div>"
      ],
      "text/plain": [
       "   Household  Observation        Income  Net Worth\n",
       "0          1            1  37537.663108       -400\n",
       "1          1            2  39566.725979       -400\n",
       "2          1            3  35508.600237       -400\n",
       "3          1            4  38552.194543       -400\n",
       "4          1            5  35508.600237       -400"
      ]
     },
     "execution_count": 26,
     "metadata": {},
     "output_type": "execute_result"
    }
   ],
   "source": [
    "data = data.assign(Observations = (data['Observation'] - 10.0 * data['Household']).astype(int))\n",
    "del data['Observation'] # delete the old column\n",
    "data = data.rename(columns = {'Observations':'Observation'}) # rename the column\n",
    "data = data[['Household', 'Observation' , 'Income', 'Net Worth']] # reinsert the column\n",
    "data.head()"
   ]
  },
  {
   "cell_type": "code",
   "execution_count": 27,
   "metadata": {
    "collapsed": false
   },
   "outputs": [],
   "source": [
    "p = data.pivot(index = 'Household' , columns = 'Observation' , values = 'Income' )"
   ]
  },
  {
   "cell_type": "code",
   "execution_count": 28,
   "metadata": {
    "collapsed": false
   },
   "outputs": [
    {
     "data": {
      "text/html": [
       "<div>\n",
       "<table border=\"1\" class=\"dataframe\">\n",
       "  <thead>\n",
       "    <tr style=\"text-align: right;\">\n",
       "      <th>Observation</th>\n",
       "      <th>1</th>\n",
       "      <th>2</th>\n",
       "      <th>3</th>\n",
       "      <th>4</th>\n",
       "      <th>5</th>\n",
       "    </tr>\n",
       "    <tr>\n",
       "      <th>Household</th>\n",
       "      <th></th>\n",
       "      <th></th>\n",
       "      <th></th>\n",
       "      <th></th>\n",
       "      <th></th>\n",
       "    </tr>\n",
       "  </thead>\n",
       "  <tbody>\n",
       "    <tr>\n",
       "      <th>1</th>\n",
       "      <td>37537.663108</td>\n",
       "      <td>39566.725979</td>\n",
       "      <td>35508.600237</td>\n",
       "      <td>38552.194543</td>\n",
       "      <td>35508.600237</td>\n",
       "    </tr>\n",
       "    <tr>\n",
       "      <th>2</th>\n",
       "      <td>22319.691578</td>\n",
       "      <td>22319.691578</td>\n",
       "      <td>22319.691578</td>\n",
       "      <td>22319.691578</td>\n",
       "      <td>22319.691578</td>\n",
       "    </tr>\n",
       "    <tr>\n",
       "      <th>3</th>\n",
       "      <td>52755.634638</td>\n",
       "      <td>52755.634638</td>\n",
       "      <td>52755.634638</td>\n",
       "      <td>52755.634638</td>\n",
       "      <td>52755.634638</td>\n",
       "    </tr>\n",
       "    <tr>\n",
       "      <th>4</th>\n",
       "      <td>125801.897980</td>\n",
       "      <td>125801.897980</td>\n",
       "      <td>125801.897980</td>\n",
       "      <td>125801.897980</td>\n",
       "      <td>125801.897980</td>\n",
       "    </tr>\n",
       "    <tr>\n",
       "      <th>5</th>\n",
       "      <td>99424.080664</td>\n",
       "      <td>107540.332150</td>\n",
       "      <td>108554.863580</td>\n",
       "      <td>108554.863580</td>\n",
       "      <td>92322.360617</td>\n",
       "    </tr>\n",
       "  </tbody>\n",
       "</table>\n",
       "</div>"
      ],
      "text/plain": [
       "Observation              1              2              3              4  \\\n",
       "Household                                                                 \n",
       "1             37537.663108   39566.725979   35508.600237   38552.194543   \n",
       "2             22319.691578   22319.691578   22319.691578   22319.691578   \n",
       "3             52755.634638   52755.634638   52755.634638   52755.634638   \n",
       "4            125801.897980  125801.897980  125801.897980  125801.897980   \n",
       "5             99424.080664  107540.332150  108554.863580  108554.863580   \n",
       "\n",
       "Observation              5  \n",
       "Household                   \n",
       "1             35508.600237  \n",
       "2             22319.691578  \n",
       "3             52755.634638  \n",
       "4            125801.897980  \n",
       "5             92322.360617  "
      ]
     },
     "execution_count": 28,
     "metadata": {},
     "output_type": "execute_result"
    }
   ],
   "source": [
    "p.head()"
   ]
  },
  {
   "cell_type": "markdown",
   "metadata": {},
   "source": [
    "If instead we are interested in both income and net worth grouped by observations then:"
   ]
  },
  {
   "cell_type": "code",
   "execution_count": 29,
   "metadata": {
    "collapsed": false
   },
   "outputs": [],
   "source": [
    "p = data.pivot(index='Household', columns='Observation')"
   ]
  },
  {
   "cell_type": "code",
   "execution_count": 30,
   "metadata": {
    "collapsed": false
   },
   "outputs": [
    {
     "data": {
      "text/html": [
       "<div>\n",
       "<table border=\"1\" class=\"dataframe\">\n",
       "  <thead>\n",
       "    <tr>\n",
       "      <th></th>\n",
       "      <th colspan=\"5\" halign=\"left\">Income</th>\n",
       "      <th colspan=\"5\" halign=\"left\">Net Worth</th>\n",
       "    </tr>\n",
       "    <tr>\n",
       "      <th>Observation</th>\n",
       "      <th>1</th>\n",
       "      <th>2</th>\n",
       "      <th>3</th>\n",
       "      <th>4</th>\n",
       "      <th>5</th>\n",
       "      <th>1</th>\n",
       "      <th>2</th>\n",
       "      <th>3</th>\n",
       "      <th>4</th>\n",
       "      <th>5</th>\n",
       "    </tr>\n",
       "    <tr>\n",
       "      <th>Household</th>\n",
       "      <th></th>\n",
       "      <th></th>\n",
       "      <th></th>\n",
       "      <th></th>\n",
       "      <th></th>\n",
       "      <th></th>\n",
       "      <th></th>\n",
       "      <th></th>\n",
       "      <th></th>\n",
       "      <th></th>\n",
       "    </tr>\n",
       "  </thead>\n",
       "  <tbody>\n",
       "    <tr>\n",
       "      <th>1</th>\n",
       "      <td>37537.663108</td>\n",
       "      <td>39566.725979</td>\n",
       "      <td>35508.600237</td>\n",
       "      <td>38552.194543</td>\n",
       "      <td>35508.600237</td>\n",
       "      <td>-400</td>\n",
       "      <td>-400</td>\n",
       "      <td>-400</td>\n",
       "      <td>-400</td>\n",
       "      <td>-400</td>\n",
       "    </tr>\n",
       "    <tr>\n",
       "      <th>2</th>\n",
       "      <td>22319.691578</td>\n",
       "      <td>22319.691578</td>\n",
       "      <td>22319.691578</td>\n",
       "      <td>22319.691578</td>\n",
       "      <td>22319.691578</td>\n",
       "      <td>-8700</td>\n",
       "      <td>-8600</td>\n",
       "      <td>-8700</td>\n",
       "      <td>-8600</td>\n",
       "      <td>-8600</td>\n",
       "    </tr>\n",
       "    <tr>\n",
       "      <th>3</th>\n",
       "      <td>52755.634638</td>\n",
       "      <td>52755.634638</td>\n",
       "      <td>52755.634638</td>\n",
       "      <td>52755.634638</td>\n",
       "      <td>52755.634638</td>\n",
       "      <td>-500</td>\n",
       "      <td>-600</td>\n",
       "      <td>-500</td>\n",
       "      <td>-500</td>\n",
       "      <td>-500</td>\n",
       "    </tr>\n",
       "    <tr>\n",
       "      <th>4</th>\n",
       "      <td>125801.897980</td>\n",
       "      <td>125801.897980</td>\n",
       "      <td>125801.897980</td>\n",
       "      <td>125801.897980</td>\n",
       "      <td>125801.897980</td>\n",
       "      <td>2111950</td>\n",
       "      <td>2169750</td>\n",
       "      <td>2149850</td>\n",
       "      <td>2216950</td>\n",
       "      <td>2289850</td>\n",
       "    </tr>\n",
       "    <tr>\n",
       "      <th>5</th>\n",
       "      <td>99424.080664</td>\n",
       "      <td>107540.332150</td>\n",
       "      <td>108554.863580</td>\n",
       "      <td>108554.863580</td>\n",
       "      <td>92322.360617</td>\n",
       "      <td>676600</td>\n",
       "      <td>675300</td>\n",
       "      <td>677100</td>\n",
       "      <td>677400</td>\n",
       "      <td>677300</td>\n",
       "    </tr>\n",
       "  </tbody>\n",
       "</table>\n",
       "</div>"
      ],
      "text/plain": [
       "                    Income                                               \\\n",
       "Observation              1              2              3              4   \n",
       "Household                                                                 \n",
       "1             37537.663108   39566.725979   35508.600237   38552.194543   \n",
       "2             22319.691578   22319.691578   22319.691578   22319.691578   \n",
       "3             52755.634638   52755.634638   52755.634638   52755.634638   \n",
       "4            125801.897980  125801.897980  125801.897980  125801.897980   \n",
       "5             99424.080664  107540.332150  108554.863580  108554.863580   \n",
       "\n",
       "                           Net Worth                                      \n",
       "Observation              5         1        2        3        4        5  \n",
       "Household                                                                 \n",
       "1             35508.600237      -400     -400     -400     -400     -400  \n",
       "2             22319.691578     -8700    -8600    -8700    -8600    -8600  \n",
       "3             52755.634638      -500     -600     -500     -500     -500  \n",
       "4            125801.897980   2111950  2169750  2149850  2216950  2289850  \n",
       "5             92322.360617    676600   675300   677100   677400   677300  "
      ]
     },
     "execution_count": 30,
     "metadata": {},
     "output_type": "execute_result"
    }
   ],
   "source": [
    "p.head()"
   ]
  },
  {
   "cell_type": "markdown",
   "metadata": {
    "collapsed": true
   },
   "source": [
    "Use stacking to transform the data into a panel structure we are familiar with (and unstacking to go back to cross-section):"
   ]
  },
  {
   "cell_type": "code",
   "execution_count": 31,
   "metadata": {
    "collapsed": false
   },
   "outputs": [],
   "source": [
    "panel_data = p.stack()"
   ]
  },
  {
   "cell_type": "code",
   "execution_count": 32,
   "metadata": {
    "collapsed": false
   },
   "outputs": [
    {
     "data": {
      "text/html": [
       "<div>\n",
       "<table border=\"1\" class=\"dataframe\">\n",
       "  <thead>\n",
       "    <tr style=\"text-align: right;\">\n",
       "      <th></th>\n",
       "      <th></th>\n",
       "      <th>Income</th>\n",
       "      <th>Net Worth</th>\n",
       "    </tr>\n",
       "    <tr>\n",
       "      <th>Household</th>\n",
       "      <th>Observation</th>\n",
       "      <th></th>\n",
       "      <th></th>\n",
       "    </tr>\n",
       "  </thead>\n",
       "  <tbody>\n",
       "    <tr>\n",
       "      <th rowspan=\"5\" valign=\"top\">1</th>\n",
       "      <th>1</th>\n",
       "      <td>37537.663108</td>\n",
       "      <td>-400</td>\n",
       "    </tr>\n",
       "    <tr>\n",
       "      <th>2</th>\n",
       "      <td>39566.725979</td>\n",
       "      <td>-400</td>\n",
       "    </tr>\n",
       "    <tr>\n",
       "      <th>3</th>\n",
       "      <td>35508.600237</td>\n",
       "      <td>-400</td>\n",
       "    </tr>\n",
       "    <tr>\n",
       "      <th>4</th>\n",
       "      <td>38552.194543</td>\n",
       "      <td>-400</td>\n",
       "    </tr>\n",
       "    <tr>\n",
       "      <th>5</th>\n",
       "      <td>35508.600237</td>\n",
       "      <td>-400</td>\n",
       "    </tr>\n",
       "  </tbody>\n",
       "</table>\n",
       "</div>"
      ],
      "text/plain": [
       "                             Income  Net Worth\n",
       "Household Observation                         \n",
       "1         1            37537.663108       -400\n",
       "          2            39566.725979       -400\n",
       "          3            35508.600237       -400\n",
       "          4            38552.194543       -400\n",
       "          5            35508.600237       -400"
      ]
     },
     "execution_count": 32,
     "metadata": {},
     "output_type": "execute_result"
    }
   ],
   "source": [
    "panel_data.head()"
   ]
  },
  {
   "cell_type": "markdown",
   "metadata": {},
   "source": [
    "Using the panel structure it is even easier to see the number of households that had fewer\n",
    "than -1 million \\$ net worth"
   ]
  },
  {
   "cell_type": "code",
   "execution_count": 33,
   "metadata": {
    "collapsed": false
   },
   "outputs": [
    {
     "data": {
      "text/html": [
       "<div>\n",
       "<table border=\"1\" class=\"dataframe\">\n",
       "  <thead>\n",
       "    <tr style=\"text-align: right;\">\n",
       "      <th></th>\n",
       "      <th></th>\n",
       "      <th>Income</th>\n",
       "      <th>Net Worth</th>\n",
       "    </tr>\n",
       "    <tr>\n",
       "      <th>Household</th>\n",
       "      <th>Observation</th>\n",
       "      <th></th>\n",
       "      <th></th>\n",
       "    </tr>\n",
       "  </thead>\n",
       "  <tbody>\n",
       "    <tr>\n",
       "      <th rowspan=\"5\" valign=\"top\">555</th>\n",
       "      <th>1</th>\n",
       "      <td>56813.760380</td>\n",
       "      <td>-1692510</td>\n",
       "    </tr>\n",
       "    <tr>\n",
       "      <th>2</th>\n",
       "      <td>54784.697509</td>\n",
       "      <td>-1760510</td>\n",
       "    </tr>\n",
       "    <tr>\n",
       "      <th>3</th>\n",
       "      <td>53770.166074</td>\n",
       "      <td>-1673500</td>\n",
       "    </tr>\n",
       "    <tr>\n",
       "      <th>4</th>\n",
       "      <td>49712.040332</td>\n",
       "      <td>-1464610</td>\n",
       "    </tr>\n",
       "    <tr>\n",
       "      <th>5</th>\n",
       "      <td>49712.040332</td>\n",
       "      <td>-1962990</td>\n",
       "    </tr>\n",
       "    <tr>\n",
       "      <th rowspan=\"5\" valign=\"top\">2852</th>\n",
       "      <th>1</th>\n",
       "      <td>0.000000</td>\n",
       "      <td>-215289000</td>\n",
       "    </tr>\n",
       "    <tr>\n",
       "      <th>2</th>\n",
       "      <td>0.000000</td>\n",
       "      <td>-220820200</td>\n",
       "    </tr>\n",
       "    <tr>\n",
       "      <th>3</th>\n",
       "      <td>0.000000</td>\n",
       "      <td>-227019000</td>\n",
       "    </tr>\n",
       "    <tr>\n",
       "      <th>4</th>\n",
       "      <td>0.000000</td>\n",
       "      <td>-226697000</td>\n",
       "    </tr>\n",
       "    <tr>\n",
       "      <th>5</th>\n",
       "      <td>0.000000</td>\n",
       "      <td>-216780000</td>\n",
       "    </tr>\n",
       "    <tr>\n",
       "      <th rowspan=\"5\" valign=\"top\">3764</th>\n",
       "      <th>1</th>\n",
       "      <td>0.000000</td>\n",
       "      <td>-2037500</td>\n",
       "    </tr>\n",
       "    <tr>\n",
       "      <th>2</th>\n",
       "      <td>0.000000</td>\n",
       "      <td>-1390100</td>\n",
       "    </tr>\n",
       "    <tr>\n",
       "      <th>3</th>\n",
       "      <td>0.000000</td>\n",
       "      <td>-2130900</td>\n",
       "    </tr>\n",
       "    <tr>\n",
       "      <th>4</th>\n",
       "      <td>0.000000</td>\n",
       "      <td>-1293000</td>\n",
       "    </tr>\n",
       "    <tr>\n",
       "      <th>5</th>\n",
       "      <td>0.000000</td>\n",
       "      <td>-1521200</td>\n",
       "    </tr>\n",
       "  </tbody>\n",
       "</table>\n",
       "</div>"
      ],
      "text/plain": [
       "                             Income  Net Worth\n",
       "Household Observation                         \n",
       "555       1            56813.760380   -1692510\n",
       "          2            54784.697509   -1760510\n",
       "          3            53770.166074   -1673500\n",
       "          4            49712.040332   -1464610\n",
       "          5            49712.040332   -1962990\n",
       "2852      1                0.000000 -215289000\n",
       "          2                0.000000 -220820200\n",
       "          3                0.000000 -227019000\n",
       "          4                0.000000 -226697000\n",
       "          5                0.000000 -216780000\n",
       "3764      1                0.000000   -2037500\n",
       "          2                0.000000   -1390100\n",
       "          3                0.000000   -2130900\n",
       "          4                0.000000   -1293000\n",
       "          5                0.000000   -1521200"
      ]
     },
     "execution_count": 33,
     "metadata": {},
     "output_type": "execute_result"
    }
   ],
   "source": [
    "panel_data[panel_data['Net Worth'] < -1000000]"
   ]
  },
  {
   "cell_type": "markdown",
   "metadata": {
    "collapsed": false
   },
   "source": [
    "Pandas even have their own data-structure for panel data - for it, we need to create dataframes as inputs"
   ]
  },
  {
   "cell_type": "code",
   "execution_count": 34,
   "metadata": {
    "collapsed": false
   },
   "outputs": [],
   "source": [
    "p = data.pivot(index='Observation', columns='Household')"
   ]
  },
  {
   "cell_type": "code",
   "execution_count": 35,
   "metadata": {
    "collapsed": false
   },
   "outputs": [],
   "source": [
    "pdata = {'Observation 1' : pd.DataFrame(p.ix[1,:]),\n",
    "        'Observation 2' : pd.DataFrame(p.ix[2,:]),\n",
    "        'Observation 3' : pd.DataFrame(p.ix[3,:]),\n",
    "        'Observation 4' : pd.DataFrame(p.ix[4,:]),\n",
    "        'Observation 5' : pd.DataFrame(p.ix[5,:])}\n",
    "pdata = pd.Panel(pdata)"
   ]
  },
  {
   "cell_type": "code",
   "execution_count": 36,
   "metadata": {
    "collapsed": false
   },
   "outputs": [
    {
     "data": {
      "text/plain": [
       "<class 'pandas.core.panel.Panel'>\n",
       "Dimensions: 5 (items) x 12030 (major_axis) x 5 (minor_axis)\n",
       "Items axis: Observation 1 to Observation 5\n",
       "Major_axis axis: (Income, 1) to (Net Worth, 6026)\n",
       "Minor_axis axis: 1 to 5"
      ]
     },
     "execution_count": 36,
     "metadata": {},
     "output_type": "execute_result"
    }
   ],
   "source": [
    "pdata"
   ]
  },
  {
   "cell_type": "markdown",
   "metadata": {},
   "source": [
    "but this is not as useful - unfortunately the panel part of the package has been neglected. Very few functions are available. Now as a last exercise, save our dataFrame to a csv file"
   ]
  },
  {
   "cell_type": "code",
   "execution_count": 39,
   "metadata": {
    "collapsed": false
   },
   "outputs": [],
   "source": [
    "data.to_excel('SCF_2013_inc_netw.xlsx')"
   ]
  },
  {
   "cell_type": "code",
   "execution_count": null,
   "metadata": {
    "collapsed": true
   },
   "outputs": [],
   "source": []
  }
 ],
 "metadata": {
  "kernelspec": {
   "display_name": "Python 3",
   "language": "python",
   "name": "python3"
  },
  "language_info": {
   "codemirror_mode": {
    "name": "ipython",
    "version": 3
   },
   "file_extension": ".py",
   "mimetype": "text/x-python",
   "name": "python",
   "nbconvert_exporter": "python",
   "pygments_lexer": "ipython3",
   "version": "3.5.1"
  }
 },
 "nbformat": 4,
 "nbformat_minor": 0
}
