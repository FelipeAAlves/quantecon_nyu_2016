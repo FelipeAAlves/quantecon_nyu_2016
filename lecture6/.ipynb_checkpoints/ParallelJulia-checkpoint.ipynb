{
 "cells": [
  {
   "cell_type": "markdown",
   "metadata": {
    "slideshow": {
     "slide_type": "slide"
    }
   },
   "source": [
    "## Parallel programming in Julia\n",
    "\n",
    "**Chase Coleman & Spencer Lyon**\n",
    "\n",
    "3-4-16"
   ]
  },
  {
   "cell_type": "markdown",
   "metadata": {
    "slideshow": {
     "slide_type": "slide"
    }
   },
   "source": [
    "## Basics\n",
    "\n",
    "Julia has built in support for parallel programming\n",
    "\n",
    "To add more computing processes use the `addprocs` function"
   ]
  },
  {
   "cell_type": "code",
   "execution_count": 1,
   "metadata": {
    "collapsed": false,
    "scrolled": true,
    "slideshow": {
     "slide_type": "fragment"
    }
   },
   "outputs": [
    {
     "data": {
      "text/plain": [
       "4-element Array{Int64,1}:\n",
       " 2\n",
       " 3\n",
       " 4\n",
       " 5"
      ]
     },
     "execution_count": 1,
     "metadata": {},
     "output_type": "execute_result"
    }
   ],
   "source": [
    "addprocs(4)"
   ]
  },
  {
   "cell_type": "markdown",
   "metadata": {
    "slideshow": {
     "slide_type": "fragment"
    }
   },
   "source": [
    "Each process has a unique `id` (integer)\n",
    "\n",
    "You can see that we added processes with id from 2 to 5"
   ]
  },
  {
   "cell_type": "markdown",
   "metadata": {
    "slideshow": {
     "slide_type": "fragment"
    }
   },
   "source": [
    "You can also add processes on remote machines.\n",
    "\n",
    "See the docstring for `addprocs` for more info"
   ]
  },
  {
   "cell_type": "markdown",
   "metadata": {
    "slideshow": {
     "slide_type": "subslide"
    }
   },
   "source": [
    "To get the number of active processes use the `nprocs` function "
   ]
  },
  {
   "cell_type": "code",
   "execution_count": 2,
   "metadata": {
    "collapsed": false,
    "slideshow": {
     "slide_type": "fragment"
    }
   },
   "outputs": [
    {
     "data": {
      "text/plain": [
       "5"
      ]
     },
     "execution_count": 2,
     "metadata": {},
     "output_type": "execute_result"
    }
   ],
   "source": [
    "nprocs()"
   ]
  },
  {
   "cell_type": "markdown",
   "metadata": {
    "slideshow": {
     "slide_type": "subslide"
    }
   },
   "source": [
    "When you have `n` active processes, typically `n-1` will be used for computation\n",
    "\n",
    "The first process (with id 1) is used to direct the computation\n",
    "\n",
    "Other processes are called workers:\n"
   ]
  },
  {
   "cell_type": "code",
   "execution_count": 3,
   "metadata": {
    "collapsed": false,
    "slideshow": {
     "slide_type": "fragment"
    }
   },
   "outputs": [
    {
     "data": {
      "text/plain": [
       "4-element Array{Int64,1}:\n",
       " 2\n",
       " 3\n",
       " 4\n",
       " 5"
      ]
     },
     "execution_count": 3,
     "metadata": {},
     "output_type": "execute_result"
    }
   ],
   "source": [
    "workers()"
   ]
  },
  {
   "cell_type": "markdown",
   "metadata": {
    "slideshow": {
     "slide_type": "slide"
    }
   },
   "source": [
    "## `pmap`\n",
    "\n",
    "\n",
    "One of the easiest ways to get started parallel programming in Julia is the `pmap` function\n",
    "\n",
    "In its simplest form `pmap` takes two arguments: a function and a collection (array or tuple)\n",
    "\n",
    "The function is applied in parallel to each item in the collection"
   ]
  },
  {
   "cell_type": "code",
   "execution_count": 5,
   "metadata": {
    "collapsed": false,
    "slideshow": {
     "slide_type": "fragment"
    }
   },
   "outputs": [
    {
     "name": "stdout",
     "output_type": "stream",
     "text": [
      "  0.179809 seconds (98 allocations: 21.513 MB, 1.14% gc time)\n"
     ]
    }
   ],
   "source": [
    "# TODO find a more compelling econ example\n",
    "\n",
    "args = (rand(200, 200), rand(400, 400), rand(200, 200), rand(400, 400))\n",
    "\n",
    "# first a serial version\n",
    "@time for X in args\n",
    "    svd(X)\n",
    "end"
   ]
  },
  {
   "cell_type": "code",
   "execution_count": 8,
   "metadata": {
    "collapsed": false,
    "slideshow": {
     "slide_type": "fragment"
    }
   },
   "outputs": [
    {
     "name": "stdout",
     "output_type": "stream",
     "text": [
      "  0.116699 seconds (1.34 k allocations: 6.194 MB)\n"
     ]
    }
   ],
   "source": [
    "# now in parallel\n",
    "@time pmap(svd, args);"
   ]
  },
  {
   "cell_type": "markdown",
   "metadata": {
    "slideshow": {
     "slide_type": "subslide"
    }
   },
   "source": [
    "We have 4 workers and had 4 arrays, why didn't get get a 4x speedup?"
   ]
  },
  {
   "cell_type": "markdown",
   "metadata": {
    "slideshow": {
     "slide_type": "fragment"
    }
   },
   "source": [
    "Notice that 2 arrays were `200x200` and two were `400x400` (computational load is _unbalanced_)\n",
    "\n",
    "Julia gave each worker one array, but some had less work than others so they finished first"
   ]
  },
  {
   "cell_type": "markdown",
   "metadata": {
    "slideshow": {
     "slide_type": "fragment"
    }
   },
   "source": [
    "This means some processes were inactive during the total computation time\n",
    "\n",
    "Also, there is (small) overhead in passing data to the worker and passing the result back to process 1"
   ]
  },
  {
   "cell_type": "markdown",
   "metadata": {
    "slideshow": {
     "slide_type": "slide"
    }
   },
   "source": [
    "## `@parallel` loops\n",
    "\n",
    "Julia also has the ability to make a for loop run in  parallel\n",
    "\n",
    "To do this use the `@parallel` macro"
   ]
  },
  {
   "cell_type": "markdown",
   "metadata": {
    "slideshow": {
     "slide_type": "fragment"
    }
   },
   "source": [
    "> There are subtleties to using `@parallel` \n",
    ">\n",
    "> We will cover only basic examples here\n",
    ">\n",
    "> Consult the [documentation](http://docs.julialang.org/en/latest/manual/parallel-computing/#parallel-map-and-loops) for more information"
   ]
  },
  {
   "cell_type": "markdown",
   "metadata": {
    "slideshow": {
     "slide_type": "subslide"
    }
   },
   "source": [
    "There are two possible syntaxes for `@parallel`:"
   ]
  },
  {
   "cell_type": "markdown",
   "metadata": {
    "slideshow": {
     "slide_type": "fragment"
    }
   },
   "source": [
    "The first is\n",
    "\n",
    "```julia\n",
    "@parallel for ...\n",
    "end\n",
    "```\n",
    "\n",
    "and simply executes the body of the for loop in parallel"
   ]
  },
  {
   "cell_type": "markdown",
   "metadata": {
    "slideshow": {
     "slide_type": "fragment"
    }
   },
   "source": [
    "The second is\n",
    "\n",
    "```julia\n",
    "@parallel (f) for ...\n",
    "end\n",
    "```\n",
    "\n",
    "It the same, but also applies a reduction function `f` to the result of each iteration\n",
    "\n",
    "The result of each iteration is the result of the last statement in the loop's body\n",
    "\n",
    "The function `f` should take two elements and output one"
   ]
  },
  {
   "cell_type": "markdown",
   "metadata": {
    "slideshow": {
     "slide_type": "subslide"
    }
   },
   "source": [
    "Let's see this in practice"
   ]
  },
  {
   "cell_type": "code",
   "execution_count": 9,
   "metadata": {
    "collapsed": false,
    "slideshow": {
     "slide_type": "fragment"
    }
   },
   "outputs": [
    {
     "name": "stdout",
     "output_type": "stream",
     "text": [
      "\tFrom worker 2:\trandn() = 0.6370063485968063\n",
      "\tFrom worker 2:\trandn() = 0.27412571808028935\n",
      "\tFrom worker 2:\trandn() = -1.308148973039765\n",
      "\tFrom worker 5:\trandn() = 2.4239206510973275\n",
      "\tFrom worker 5:\trandn() = 0.5866206028772296\n",
      "\tFrom worker 3:\trandn() = 0.8793995059104416\n",
      "\tFrom worker 3:\trandn() = 0.9311895052534991\n",
      "\tFrom worker 4:\trandn() = -0.5385604215699924\n",
      "\tFrom worker 4:\trandn() = 0.8430439024444716\n",
      "\tFrom worker 3:\trandn() = 0.3409225770871464\n"
     ]
    }
   ],
   "source": [
    "@parallel for i = 1:10\n",
    "    @show randn()\n",
    "end;"
   ]
  },
  {
   "cell_type": "code",
   "execution_count": 10,
   "metadata": {
    "collapsed": false,
    "slideshow": {
     "slide_type": "fragment"
    }
   },
   "outputs": [
    {
     "name": "stdout",
     "output_type": "stream",
     "text": [
      "\tFrom worker 2:\trandn() = 0.016079301303935093\n",
      "\tFrom worker 2:\trandn() = 2.4261334640609262\n",
      "\tFrom worker 2:\trandn() = -1.3890168284832507\n",
      "\tFrom worker 4:\trandn() = -1.7093158157895403\n",
      "\tFrom worker 3:\trandn() = -0.5793607477389012\n",
      "\tFrom worker 4:\trandn() = 0.05050313320323606\n",
      "\tFrom worker 3:\trandn() = -1.0967750015533317\n",
      "\tFrom worker 3:\trandn() = 0.42215221898874533\n",
      "\tFrom worker 5:\trandn() = -0.09745449945788764\n",
      "\tFrom worker 5:\trandn() = -1.6298331958124195\n",
      "-3.5868879712784887\n"
     ]
    }
   ],
   "source": [
    "# now with a (+)\n",
    "total = @parallel (+) for i=1:10\n",
    "    @show randn()\n",
    "end\n",
    "println(total)"
   ]
  },
  {
   "cell_type": "markdown",
   "metadata": {
    "slideshow": {
     "slide_type": "subslide"
    }
   },
   "source": [
    "One issue with `@parallel` is that all variables used in the loop are copied to the working process, but not copied back to process 1\n",
    "\n",
    "That means code like this will not work as you might expect:"
   ]
  },
  {
   "cell_type": "code",
   "execution_count": 11,
   "metadata": {
    "collapsed": false,
    "slideshow": {
     "slide_type": "fragment"
    }
   },
   "outputs": [
    {
     "data": {
      "text/plain": [
       "10-element Array{Float64,1}:\n",
       " 0.0\n",
       " 0.0\n",
       " 0.0\n",
       " 0.0\n",
       " 0.0\n",
       " 0.0\n",
       " 0.0\n",
       " 0.0\n",
       " 0.0\n",
       " 0.0"
      ]
     },
     "execution_count": 11,
     "metadata": {},
     "output_type": "execute_result"
    }
   ],
   "source": [
    "a = zeros(10)\n",
    "@parallel for i=1:10\n",
    "    a[i] = i\n",
    "end\n",
    "a"
   ]
  },
  {
   "cell_type": "markdown",
   "metadata": {
    "slideshow": {
     "slide_type": "fragment"
    }
   },
   "source": [
    "For that to work we need an array that provides shared memory access across processes..."
   ]
  },
  {
   "cell_type": "markdown",
   "metadata": {
    "slideshow": {
     "slide_type": "slide"
    }
   },
   "source": [
    "## `SharedArray`\n",
    "\n",
    "A `SharedArray` is an array whose memory can be shared across all processes on the same machine"
   ]
  },
  {
   "cell_type": "markdown",
   "metadata": {
    "slideshow": {
     "slide_type": "fragment"
    }
   },
   "source": [
    "This comes with a number of benefits over `Array` for parallel computing.\n",
    "\n",
    "Some of them are:\n",
    "\n",
    "- Save on the overhead of passing arrays to worker processes\n",
    "- Update arrays in a predictable way from `@parallel` loops"
   ]
  },
  {
   "cell_type": "markdown",
   "metadata": {
    "slideshow": {
     "slide_type": "subslide"
    }
   },
   "source": [
    "Let's see an example"
   ]
  },
  {
   "cell_type": "code",
   "execution_count": 30,
   "metadata": {
    "collapsed": false
   },
   "outputs": [
    {
     "name": "stdout",
     "output_type": "stream",
     "text": [
      "[0,0,0,0,0,0,0,0,0,0,0]\n"
     ]
    }
   ],
   "source": [
    "a = SharedArray(Int, 1000)\n",
    "@parallel for i in eachindex(a)\n",
    "    a[i] = i\n",
    "end\n",
    "println(a[end-10:end])"
   ]
  },
  {
   "cell_type": "markdown",
   "metadata": {
    "slideshow": {
     "slide_type": "fragment"
    }
   },
   "source": [
    "I know what you're thinking \"wait, you told me that this example should work\""
   ]
  },
  {
   "cell_type": "markdown",
   "metadata": {
    "slideshow": {
     "slide_type": "fragment"
    }
   },
   "source": [
    "Well it did..."
   ]
  },
  {
   "cell_type": "code",
   "execution_count": 31,
   "metadata": {
    "collapsed": false
   },
   "outputs": [
    {
     "name": "stdout",
     "output_type": "stream",
     "text": [
      "[990,991,992,993,994,995,996,997,998,999,1000]\n"
     ]
    }
   ],
   "source": [
    "println(a[end-10:end])"
   ]
  },
  {
   "cell_type": "markdown",
   "metadata": {
    "slideshow": {
     "slide_type": "fragment"
    }
   },
   "source": [
    "... but there's a caveat"
   ]
  },
  {
   "cell_type": "markdown",
   "metadata": {
    "slideshow": {
     "slide_type": "subslide"
    }
   },
   "source": [
    "An `@parallel` loop with a `SharedArray` will run _asynchronously_\n",
    "\n",
    "This means the instructions will be sent to the workers, and then the main process will just continue without waiting for workers to finish"
   ]
  },
  {
   "cell_type": "markdown",
   "metadata": {
    "slideshow": {
     "slide_type": "fragment"
    }
   },
   "source": [
    "To fix this problem we need to tell Julia to `@sync` all computations that happen in the loop:"
   ]
  },
  {
   "cell_type": "code",
   "execution_count": 32,
   "metadata": {
    "collapsed": false
   },
   "outputs": [
    {
     "name": "stdout",
     "output_type": "stream",
     "text": [
      "[990,991,992,993,994,995,996,997,998,999,1000]\n"
     ]
    }
   ],
   "source": [
    "b = SharedArray(Int, 1000)\n",
    "@sync @parallel for i in eachindex(b)\n",
    "    b[i] = i\n",
    "end\n",
    "println(b[end-10:end])"
   ]
  },
  {
   "cell_type": "markdown",
   "metadata": {
    "slideshow": {
     "slide_type": "fragment"
    }
   },
   "source": [
    "Because `SharedArray` data is available to multiple processes, you need to be careful about how and when it is accessed\n",
    "\n",
    "For more details see the [`SharedArray` docs](http://docs.julialang.org/en/latest/manual/parallel-computing/#id2)"
   ]
  },
  {
   "cell_type": "markdown",
   "metadata": {
    "slideshow": {
     "slide_type": "slide"
    }
   },
   "source": [
    "## More info\n",
    "\n",
    "We've only scratched the surface of Julia's parallel computing capabilities. \n",
    "\n",
    "For more information see these references:\n",
    "\n",
    "- The offical [documentation](http://docs.julialang.org/en/latest/manual/parallel-computing/) on parallel computing\n",
    "- [Parallel Julia](https://github.com/JuliaParallel) github organization\n",
    "- Other packages:\n",
    "    - [MPI.jl](https://github.com/JuliaParallel/MPI.jl)\n",
    "    - [ParallelAccelerator.jl](https://github.com/IntelLabs/ParallelAccelerator.jl)\n",
    "    - [DistributedArrays.jl](https://github.com/JuliaParallel/DistributedArrays.jl)"
   ]
  }
 ],
 "metadata": {
  "kernelspec": {
   "display_name": "Julia 0.4.3",
   "language": "julia",
   "name": "julia-0.4"
  },
  "language_info": {
   "file_extension": ".jl",
   "mimetype": "application/julia",
   "name": "julia",
   "version": "0.4.3"
  },
  "livereveal": {
   "scroll": true,
   "start_slideshow_at": "selected",
   "theme": "white",
   "transition": "fade"
  }
 },
 "nbformat": 4,
 "nbformat_minor": 0
}
