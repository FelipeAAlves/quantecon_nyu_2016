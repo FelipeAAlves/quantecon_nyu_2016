{
 "cells": [
  {
   "cell_type": "markdown",
   "metadata": {
    "slideshow": {
     "slide_type": "slide"
    }
   },
   "source": [
    "\n",
    "## Introduction to Julia\n",
    "\n",
    "**Chase Coleman & Spencer Lyon**\n",
    "\n",
    "3-4-16"
   ]
  },
  {
   "cell_type": "markdown",
   "metadata": {
    "slideshow": {
     "slide_type": "slide"
    }
   },
   "source": [
    "## Opening Example"
   ]
  },
  {
   "cell_type": "code",
   "execution_count": 2,
   "metadata": {
    "collapsed": false,
    "slideshow": {
     "slide_type": "fragment"
    }
   },
   "outputs": [
    {
     "data": {
      "text/plain": [
       "bisect (generic function with 3 methods)"
      ]
     },
     "execution_count": 2,
     "metadata": {},
     "output_type": "execute_result"
    }
   ],
   "source": [
    "# *1                          *2       *3\n",
    "function bisect(f, a, b, maxit=100, tol::Float64=1e-9)\n",
    "    fa, fb = f(a), f(b)\n",
    "    # *4       *5\n",
    "    for it in 1:maxit \n",
    "        mid = (a + b)/2\n",
    "        fmid = f(mid)\n",
    "        \n",
    "        # *6\n",
    "        if abs(fmid) < tol            \n",
    "            # *7\n",
    "            return mid\n",
    "        end\n",
    "\n",
    "        if fa*fmid > 0\n",
    "            fa, a = fmid, mid  \n",
    "        else\n",
    "            fb, b = fmid, mid\n",
    "        end\n",
    "    end\n",
    "    \n",
    "    # *8\n",
    "    error(\"maximum iterations exceeded\")\n",
    "end"
   ]
  },
  {
   "cell_type": "markdown",
   "metadata": {
    "slideshow": {
     "slide_type": "subslide"
    }
   },
   "source": [
    "1. Define new functions with `function ... end`\n",
    "2. Default arugments `(..., arg=default_value)`\n",
    "3. Typed arguments `(..., arg::Type)`\n",
    "4. For loop `for X (in|=) SOMETHING ... end`\n",
    "5. Create ranges `A:B` (not dense like Matlab)\n",
    "6. If statement `if CONDITION BLOCK end`\n",
    "7. Return statement `return STUFF` (optional, see next example)\n",
    "8. Throwing error `error(MESSAGE)`"
   ]
  },
  {
   "cell_type": "code",
   "execution_count": null,
   "metadata": {
    "collapsed": false,
    "slideshow": {
     "slide_type": "subslide"
    }
   },
   "outputs": [],
   "source": [
    "# shorthand function syntax\n",
    "f(x) = x^2-2\n",
    "\n",
    "# longer syntax --  equivalent to above\n",
    "function f2(x)\n",
    "    x^2-2\n",
    "end\n",
    "\n",
    "# much longer syntax -- still equivalent to above\n",
    "function f3(x)\n",
    "    return x^2-2\n",
    "end"
   ]
  },
  {
   "cell_type": "code",
   "execution_count": null,
   "metadata": {
    "collapsed": false,
    "slideshow": {
     "slide_type": "fragment"
    }
   },
   "outputs": [],
   "source": [
    "println(bisect(f, 0, 4))\n",
    "println(bisect(f2, 0, 4))\n",
    "println(bisect(f3, 0, 4))"
   ]
  },
  {
   "cell_type": "markdown",
   "metadata": {
    "slideshow": {
     "slide_type": "slide"
    }
   },
   "source": [
    "## Types\n",
    "\n",
    "Everything in Julia has a `type`.\n",
    "\n",
    "You can inspect the `type` of an object using the `typeof` function:"
   ]
  },
  {
   "cell_type": "code",
   "execution_count": 3,
   "metadata": {
    "collapsed": false,
    "slideshow": {
     "slide_type": "fragment"
    }
   },
   "outputs": [
    {
     "name": "stdout",
     "output_type": "stream",
     "text": [
      "1.0 is a Float64\n",
      "1 is a Int64\n",
      "foo is a ASCIIString\n",
      "φ is a UTF8String\n",
      "bisect is a Function\n",
      "4 is a Int8\n",
      "Float64 is a DataType\n",
      "true is a Bool\n"
     ]
    }
   ],
   "source": [
    "for obj in [1.0, 1, \"foo\", \"φ\", bisect, Int8(4), Float64, true]\n",
    "    # Notice string interpolation syntax `$`\n",
    "    println(\"$obj is a $(typeof(obj))\")\n",
    "end"
   ]
  },
  {
   "cell_type": "markdown",
   "metadata": {
    "slideshow": {
     "slide_type": "subslide"
    }
   },
   "source": [
    "### Type Parameters\n",
    "\n",
    "Types can have parameters. \n",
    "\n",
    "This concept is best understood by example"
   ]
  },
  {
   "cell_type": "code",
   "execution_count": null,
   "metadata": {
    "collapsed": false,
    "slideshow": {
     "slide_type": "fragment"
    }
   },
   "outputs": [],
   "source": [
    "x = [1, 2, 3]\n",
    "typeof(x)  # whats the `{` and `}` stuff all about?"
   ]
  },
  {
   "cell_type": "markdown",
   "metadata": {
    "slideshow": {
     "slide_type": "fragment"
    }
   },
   "source": [
    "`Int` and `1` are  type parameters. In this case it tells us that the array\n",
    "is filled with `Int`s and has `1` dimension (it is a vector, yes Julia has\n",
    "vectors).\n",
    "\n",
    "Allow you to do all sorts of magic that will become clear later. For now just\n",
    "recognize the `{` `}` syntax."
   ]
  },
  {
   "cell_type": "markdown",
   "metadata": {
    "collapsed": true,
    "slideshow": {
     "slide_type": "subslide"
    }
   },
   "source": [
    "### User defined types\n",
    "\n",
    "You can define your own types (you _should_ do this a lot).\n",
    "\n",
    "Two forms of types:\n",
    "\n",
    "- abstract: you can't create these, but they help you group related types together\n",
    "- composite: you do create these, they are the actual data of your program"
   ]
  },
  {
   "cell_type": "code",
   "execution_count": 4,
   "metadata": {
    "collapsed": false,
    "slideshow": {
     "slide_type": "subslide"
    }
   },
   "outputs": [
    {
     "data": {
      "text/plain": [
       "MarkovChain{T}"
      ]
     },
     "execution_count": 4,
     "metadata": {},
     "output_type": "execute_result"
    }
   ],
   "source": [
    "abstract Exog\n",
    "\n",
    "type AR1 <: Exog\n",
    "    rho::Float64  # you should put types on the fields of your types\n",
    "    sigma::Float64\n",
    "end\n",
    "\n",
    "\"\"\"\n",
    "I'm docstring. I describe the `MarkovChain` type.\n",
    "\n",
    "## Inputs\n",
    "- `Π`    : transition matrix\n",
    "- `vals` : values\n",
    "\n",
    "`x0` is the initial distribution\n",
    "\"\"\"\n",
    "type MarkovChain{T} <: Exog\n",
    "    Π::Matrix{Float64}\n",
    "    vals::AbstractVector{T}\n",
    "    x0::Vector{Float64}\n",
    "end\n",
    "\n",
    "# functions to give `vals` and `x0` default arguments\n",
    "MarkovChain(Π, v) = MarkovChain(Π, v, fill(1/length(v), length(v)))\n",
    "MarkovChain(Π) = MarkovChain(Π, 1:size(Π, 1))"
   ]
  },
  {
   "cell_type": "code",
   "execution_count": 5,
   "metadata": {
    "collapsed": false,
    "slideshow": {
     "slide_type": "fragment"
    }
   },
   "outputs": [
    {
     "data": {
      "text/plain": [
       "AR1(0.9,0.1)"
      ]
     },
     "execution_count": 5,
     "metadata": {},
     "output_type": "execute_result"
    }
   ],
   "source": [
    "AR1(0.9, 0.1)"
   ]
  },
  {
   "cell_type": "code",
   "execution_count": 10,
   "metadata": {
    "collapsed": false
   },
   "outputs": [
    {
     "data": {
      "text/plain": [
       "MarkovChain{Int64}(2x2 Array{Float64,2}:\n",
       " 1.0  0.0\n",
       " 0.0  1.0,1:2,[0.5,0.5])"
      ]
     },
     "execution_count": 10,
     "metadata": {},
     "output_type": "execute_result"
    }
   ],
   "source": [
    "Π = eye(2)\n",
    "mc = MarkovChain(Π)\n",
    "# typeof(mc.vals) <: AbstractVector"
   ]
  },
  {
   "cell_type": "code",
   "execution_count": 7,
   "metadata": {
    "collapsed": false,
    "slideshow": {
     "slide_type": "fragment"
    }
   },
   "outputs": [
    {
     "name": "stdout",
     "output_type": "stream",
     "text": [
      "search: MarkovChain\n",
      "\n"
     ]
    },
    {
     "data": {
      "text/latex": [
       "I'm docstring. I describe the \\texttt{MarkovChain} type.\n",
       "\\subsection{Inputs}\n",
       "\\begin{itemize}\n",
       "\\item \\texttt{Π}    : transition matrix\n",
       "\\item \\texttt{vals} : values\n",
       "\\end{itemize}\n",
       "\\texttt{x0} is the initial distribution\n"
      ],
      "text/markdown": [
       "I'm docstring. I describe the `MarkovChain` type.\n",
       "\n",
       "## Inputs\n",
       "\n",
       "  * `Π`    : transition matrix\n",
       "  * `vals` : values\n",
       "\n",
       "`x0` is the initial distribution\n"
      ],
      "text/plain": [
       "I'm docstring. I describe the `MarkovChain` type.\n",
       "\n",
       "## Inputs\n",
       "\n",
       "  * `Π`    : transition matrix\n",
       "  * `vals` : values\n",
       "\n",
       "`x0` is the initial distribution\n"
      ]
     },
     "execution_count": 7,
     "metadata": {},
     "output_type": "execute_result"
    }
   ],
   "source": [
    "?MarkovChain"
   ]
  },
  {
   "cell_type": "code",
   "execution_count": 8,
   "metadata": {
    "collapsed": false
   },
   "outputs": [
    {
     "data": {
      "text/plain": [
       "10-element Array{Float64,1}:\n",
       " 1.0\n",
       " 1.0\n",
       " 1.0\n",
       " 1.0\n",
       " 1.0\n",
       " 1.0\n",
       " 1.0\n",
       " 1.0\n",
       " 1.0\n",
       " 1.0"
      ]
     },
     "execution_count": 8,
     "metadata": {},
     "output_type": "execute_result"
    }
   ],
   "source": [
    "v = 1:5\n",
    "fill(1.0, 10)"
   ]
  },
  {
   "cell_type": "markdown",
   "metadata": {
    "slideshow": {
     "slide_type": "slide"
    }
   },
   "source": [
    "## Multiple Dispatch\n",
    "\n",
    "Function behavior can be specialized based on the type (and number) of all function arguments\n",
    "\n",
    "Let's see some examples"
   ]
  },
  {
   "cell_type": "code",
   "execution_count": 9,
   "metadata": {
    "collapsed": false,
    "slideshow": {
     "slide_type": "fragment"
    }
   },
   "outputs": [
    {
     "name": "stdout",
     "output_type": "stream",
     "text": [
      "g(hello)    I have something\n",
      "g(1)        I have an integer\n",
      "g(1.0)      I have a float\n",
      "g(1//2)     I have some kind of number\n",
      "g([1,2,3])  I have an array\n"
     ]
    }
   ],
   "source": [
    "g(x) = \"I have something\"\n",
    "g(x::Int) = \"I have an integer\"\n",
    "g(x::Float64) = \"I have a float\"\n",
    "g(x::Number) = \"I have some kind of number\"\n",
    "g(x::Array) = \"I have an array\"\n",
    "\n",
    "for x in (\"hello\", 1, 1.0, 1//2, [1, 2, 3])\n",
    "    @printf \"%-12s%s\\n\" \"g($x)\" g(x)\n",
    "end"
   ]
  },
  {
   "cell_type": "markdown",
   "metadata": {
    "slideshow": {
     "slide_type": "subslide"
    }
   },
   "source": [
    "We can add methods to the `g` function that take multiple arguments\n",
    "\n",
    "Notice how the return value depends on the types of both arguments"
   ]
  },
  {
   "cell_type": "code",
   "execution_count": 8,
   "metadata": {
    "collapsed": false
   },
   "outputs": [
    {
     "data": {
      "text/plain": [
       "g (generic function with 11 methods)"
      ]
     },
     "execution_count": 8,
     "metadata": {},
     "output_type": "execute_result"
    }
   ],
   "source": [
    "g(x, y) = \"I have two things\"\n",
    "g(x::Int, y) = \"I have an integer and something else\"\n",
    "g(x::Int, y::Number) = \"I have an integer and a number\"\n",
    "g(x::Int, y::Int) = \"I have two integers\"\n",
    "g(x::Array, y::Array) = \"I have two arrays\"\n",
    "g(x::Array{Float64}, y::Array{Float64}) = \"I have two arrays that have floats\""
   ]
  },
  {
   "cell_type": "code",
   "execution_count": 9,
   "metadata": {
    "collapsed": false,
    "slideshow": {
     "slide_type": "fragment"
    }
   },
   "outputs": [
    {
     "name": "stdout",
     "output_type": "stream",
     "text": [
      "g(x, y)           I have two things\n",
      "g(1, x)           I have an integer and something else\n",
      "g(1, 1//2)        I have an integer and a number\n",
      "g(1, 2)           I have two integers\n",
      "g(1, 2.0)         I have an integer and a number\n",
      "g([1], [2])       I have two arrays\n",
      "g([1.0], [2.0])   I have two arrays that have floats\n"
     ]
    }
   ],
   "source": [
    "stuff = ((\"x\", \"y\"), (1, \"x\"),  (1, 1//2), \n",
    "         (1, 2),  (1, 2.0), ([1], [2]), \n",
    "         ([1.0], [2.0]))\n",
    "\n",
    "for (x1, x2) in stuff\n",
    "    @printf \"%-18s%s\\n\" \"g($x1, $x2)\" g(x1, x2)\n",
    "end"
   ]
  },
  {
   "cell_type": "markdown",
   "metadata": {
    "slideshow": {
     "slide_type": "slide"
    }
   },
   "source": [
    "## Example\n",
    "\n",
    "Let's construct routines that will allow us to simulate any subtype of `Exog`\n",
    "\n",
    "To do this we will need each subtype of `Exog` to implement a `iter` method\n",
    "\n",
    "This method should take two arguments:\n",
    "\n",
    "- The `Exog` subtype\n",
    "- The current state\n",
    "\n",
    "It should return the state on the next `iter`ation"
   ]
  },
  {
   "cell_type": "code",
   "execution_count": 13,
   "metadata": {
    "collapsed": false
   },
   "outputs": [
    {
     "data": {
      "text/plain": [
       "2"
      ]
     },
     "execution_count": 13,
     "metadata": {},
     "output_type": "execute_result"
    }
   ],
   "source": [
    "findfirst(mc.vals, 2)"
   ]
  },
  {
   "cell_type": "code",
   "execution_count": 14,
   "metadata": {
    "collapsed": false,
    "slideshow": {
     "slide_type": "subslide"
    }
   },
   "outputs": [
    {
     "data": {
      "text/plain": [
       "iter (generic function with 4 methods)"
      ]
     },
     "execution_count": 14,
     "metadata": {},
     "output_type": "execute_result"
    }
   ],
   "source": [
    "iter(ar1::AR1, x) = ar1.rho*x + ar1.sigma*randn()\n",
    "\n",
    "function iter(mc::MarkovChain, s::Int, v)\n",
    "    ind = searchsortedfirst(cumsum(vec(mc.Π[s, :])), rand())\n",
    "    return mc.vals[ind]\n",
    "end\n",
    "\n",
    "iter{T}(mc::MarkovChain{T}, v::T) = iter(mc, findfirst(mc.vals, v), v)\n",
    "iter(::Exog, x) = error(\"iter should be implemented by each Exog subtype\")"
   ]
  },
  {
   "cell_type": "code",
   "execution_count": 15,
   "metadata": {
    "collapsed": false
   },
   "outputs": [
    {
     "name": "stdout",
     "output_type": "stream",
     "text": [
      "search: findfirst\n",
      "\n"
     ]
    },
    {
     "data": {
      "text/latex": [
       "\\begin{verbatim}\n",
       "findfirst(A,v)\n",
       "\\end{verbatim}\n",
       "Return the index of the first element equal to \\texttt{v} in \\texttt{A}.\n",
       "\\begin{verbatim}\n",
       "findfirst(A)\n",
       "\\end{verbatim}\n",
       "Return the index of the first non-zero value in \\texttt{A} (determined by \\texttt{A[i]!=0}).\n",
       "\\begin{verbatim}\n",
       "findfirst(predicate, A)\n",
       "\\end{verbatim}\n",
       "Return the index of the first element of \\texttt{A} for which \\texttt{predicate} returns \\texttt{true}.\n"
      ],
      "text/markdown": [
       "```\n",
       "findfirst(A,v)\n",
       "```\n",
       "\n",
       "Return the index of the first element equal to `v` in `A`.\n",
       "\n",
       "```\n",
       "findfirst(A)\n",
       "```\n",
       "\n",
       "Return the index of the first non-zero value in `A` (determined by `A[i]!=0`).\n",
       "\n",
       "```\n",
       "findfirst(predicate, A)\n",
       "```\n",
       "\n",
       "Return the index of the first element of `A` for which `predicate` returns `true`.\n"
      ],
      "text/plain": [
       "```\n",
       "findfirst(A,v)\n",
       "```\n",
       "\n",
       "Return the index of the first element equal to `v` in `A`.\n",
       "\n",
       "```\n",
       "findfirst(A)\n",
       "```\n",
       "\n",
       "Return the index of the first non-zero value in `A` (determined by `A[i]!=0`).\n",
       "\n",
       "```\n",
       "findfirst(predicate, A)\n",
       "```\n",
       "\n",
       "Return the index of the first element of `A` for which `predicate` returns `true`.\n"
      ]
     },
     "execution_count": 15,
     "metadata": {},
     "output_type": "execute_result"
    }
   ],
   "source": [
    "?findfirst"
   ]
  },
  {
   "cell_type": "markdown",
   "metadata": {
    "slideshow": {
     "slide_type": "subslide"
    }
   },
   "source": [
    "Now we will define single `simulate` function for all `Exog` subtypes"
   ]
  },
  {
   "cell_type": "code",
   "execution_count": 16,
   "metadata": {
    "collapsed": false
   },
   "outputs": [
    {
     "data": {
      "text/plain": [
       "simulate (generic function with 2 methods)"
      ]
     },
     "execution_count": 16,
     "metadata": {},
     "output_type": "execute_result"
    }
   ],
   "source": [
    "# NOTE `;` for keyword argument\n",
    "function simulate(ex::Exog, x0; capT::Int=10)\n",
    "    out = Array(typeof(x0), capT)\n",
    "    out[1] = x0\n",
    "\n",
    "    for t = 2:capT\n",
    "        out[t] = iter(ex, out[t-1])\n",
    "    end\n",
    "    out\n",
    "end\n",
    "\n",
    "# for MarkovChain we have more info, so we don't need to give it an x0\n",
    "# define another method that hands off to the method above\n",
    "function simulate(mc::MarkovChain; capT::Int=100)\n",
    "    v = mc.vals[searchsortedfirst(cumsum(mc.x0), rand())]\n",
    "    simulate(mc, v; capT=capT)\n",
    "end"
   ]
  },
  {
   "cell_type": "code",
   "execution_count": 17,
   "metadata": {
    "collapsed": false,
    "slideshow": {
     "slide_type": "subslide"
    }
   },
   "outputs": [
    {
     "data": {
      "text/plain": [
       "10-element Array{Float64,1}:\n",
       " 0.5     \n",
       " 0.6972  \n",
       " 0.753142\n",
       " 0.757262\n",
       " 0.751228\n",
       " 0.716978\n",
       " 0.668055\n",
       " 0.561398\n",
       " 0.622641\n",
       " 0.500955"
      ]
     },
     "execution_count": 17,
     "metadata": {},
     "output_type": "execute_result"
    }
   ],
   "source": [
    "ar1 = AR1(0.9, 0.1)\n",
    "simulate(ar1, 0.5)"
   ]
  },
  {
   "cell_type": "code",
   "execution_count": 18,
   "metadata": {
    "collapsed": false,
    "slideshow": {
     "slide_type": "fragment"
    }
   },
   "outputs": [
    {
     "data": {
      "text/plain": [
       "5-element Array{Float64,1}:\n",
       " 2.5\n",
       " 0.5\n",
       " 0.5\n",
       " 0.5\n",
       " 0.5"
      ]
     },
     "execution_count": 18,
     "metadata": {},
     "output_type": "execute_result"
    }
   ],
   "source": [
    "mc = MarkovChain([0.7 0.3; 0.4 0.6], [0.5, 2.5], [0.2, 0.8])\n",
    "simulate(mc; capT=5)"
   ]
  }
 ],
 "metadata": {
  "kernelspec": {
   "display_name": "Julia 0.4.3",
   "language": "julia",
   "name": "julia-0.4"
  },
  "language_info": {
   "file_extension": ".jl",
   "mimetype": "application/julia",
   "name": "julia",
   "version": "0.4.3"
  },
  "livereveal": {
   "scroll": true,
   "start_slideshow_at": "selected",
   "theme": "white",
   "transition": "fade"
  }
 },
 "nbformat": 4,
 "nbformat_minor": 0
}
